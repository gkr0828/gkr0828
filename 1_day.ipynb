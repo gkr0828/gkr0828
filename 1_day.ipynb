{
  "nbformat": 4,
  "nbformat_minor": 0,
  "metadata": {
    "colab": {
      "provenance": [],
      "authorship_tag": "ABX9TyMtl7XwL8krc1zsC+phGrIo",
      "include_colab_link": true
    },
    "kernelspec": {
      "name": "python3",
      "display_name": "Python 3"
    },
    "language_info": {
      "name": "python"
    },
    "accelerator": "GPU",
    "gpuClass": "standard"
  },
  "cells": [
    {
      "cell_type": "markdown",
      "metadata": {
        "id": "view-in-github",
        "colab_type": "text"
      },
      "source": [
        "<a href=\"https://colab.research.google.com/github/gkr0828/gkr0828/blob/main/1_day.ipynb\" target=\"_parent\"><img src=\"https://colab.research.google.com/assets/colab-badge.svg\" alt=\"Open In Colab\"/></a>"
      ]
    },
    {
      "cell_type": "markdown",
      "source": [
        "##데이터 타입\n",
        "int/float/str"
      ],
      "metadata": {
        "id": "UWCPB76YBODs"
      }
    },
    {
      "cell_type": "code",
      "source": [
        "a=3\n",
        "b=5.6\n",
        "c=\"Hello~\""
      ],
      "metadata": {
        "id": "_GpatidvB00d"
      },
      "execution_count": null,
      "outputs": []
    },
    {
      "cell_type": "code",
      "source": [
        "type(a)"
      ],
      "metadata": {
        "colab": {
          "base_uri": "https://localhost:8080/"
        },
        "id": "AmT1o1eFCFFZ",
        "outputId": "b87b29ed-cd2b-4bfd-e57a-13e4984c171d"
      },
      "execution_count": null,
      "outputs": [
        {
          "output_type": "execute_result",
          "data": {
            "text/plain": [
              "int"
            ]
          },
          "metadata": {},
          "execution_count": 5
        }
      ]
    },
    {
      "cell_type": "code",
      "source": [
        "type(b)"
      ],
      "metadata": {
        "colab": {
          "base_uri": "https://localhost:8080/"
        },
        "id": "KbqYjgz9Caa0",
        "outputId": "6fa4da02-a8e9-4259-cfe8-de28387e2027"
      },
      "execution_count": null,
      "outputs": [
        {
          "output_type": "execute_result",
          "data": {
            "text/plain": [
              "float"
            ]
          },
          "metadata": {},
          "execution_count": 7
        }
      ]
    },
    {
      "cell_type": "code",
      "source": [
        "type(c)"
      ],
      "metadata": {
        "colab": {
          "base_uri": "https://localhost:8080/"
        },
        "id": "_sogxR0jCjE_",
        "outputId": "dcc00cfa-c636-4f33-d81f-247562a0daec"
      },
      "execution_count": null,
      "outputs": [
        {
          "output_type": "execute_result",
          "data": {
            "text/plain": [
              "str"
            ]
          },
          "metadata": {},
          "execution_count": 9
        }
      ]
    },
    {
      "cell_type": "code",
      "source": [
        "a=float(a)"
      ],
      "metadata": {
        "id": "vxisHxjSCp_X"
      },
      "execution_count": null,
      "outputs": []
    },
    {
      "cell_type": "code",
      "source": [
        "type(a)"
      ],
      "metadata": {
        "colab": {
          "base_uri": "https://localhost:8080/"
        },
        "id": "8xGlda52CwI8",
        "outputId": "4c61213a-520c-48e5-d5ad-97f82ab4222d"
      },
      "execution_count": null,
      "outputs": [
        {
          "output_type": "execute_result",
          "data": {
            "text/plain": [
              "float"
            ]
          },
          "metadata": {},
          "execution_count": 11
        }
      ]
    },
    {
      "cell_type": "code",
      "source": [
        "a=str(a)"
      ],
      "metadata": {
        "id": "LWv1X8YoC1cx"
      },
      "execution_count": null,
      "outputs": []
    },
    {
      "cell_type": "code",
      "source": [
        "type(a)"
      ],
      "metadata": {
        "colab": {
          "base_uri": "https://localhost:8080/"
        },
        "id": "EDEkd7FGC18Q",
        "outputId": "07e1c1da-6d22-4ba5-dc5b-24f525f61fb0"
      },
      "execution_count": null,
      "outputs": [
        {
          "output_type": "execute_result",
          "data": {
            "text/plain": [
              "str"
            ]
          },
          "metadata": {},
          "execution_count": 13
        }
      ]
    },
    {
      "cell_type": "code",
      "source": [
        "a"
      ],
      "metadata": {
        "colab": {
          "base_uri": "https://localhost:8080/",
          "height": 35
        },
        "id": "r33-ZEg9C6Tf",
        "outputId": "deec222c-bddc-4d3b-f817-2c8f396274b2"
      },
      "execution_count": null,
      "outputs": [
        {
          "output_type": "execute_result",
          "data": {
            "text/plain": [
              "'3.0'"
            ],
            "application/vnd.google.colaboratory.intrinsic+json": {
              "type": "string"
            }
          },
          "metadata": {},
          "execution_count": 14
        }
      ]
    },
    {
      "cell_type": "markdown",
      "source": [
        "##입력과 출력\n",
        "input()/print()"
      ],
      "metadata": {
        "id": "hyhyDqdNC9A_"
      }
    },
    {
      "cell_type": "code",
      "source": [
        "a=input()"
      ],
      "metadata": {
        "colab": {
          "base_uri": "https://localhost:8080/"
        },
        "id": "KFVoblr8DCtm",
        "outputId": "b1ebc6c1-1917-4a9a-8199-9d8d407a3a96"
      },
      "execution_count": null,
      "outputs": [
        {
          "name": "stdout",
          "output_type": "stream",
          "text": [
            "7\n"
          ]
        }
      ]
    },
    {
      "cell_type": "code",
      "source": [
        "a"
      ],
      "metadata": {
        "colab": {
          "base_uri": "https://localhost:8080/",
          "height": 35
        },
        "id": "1a2qQ4CCDI_c",
        "outputId": "3bdc9ebb-bd6e-42d6-ac7c-cd969a62a601"
      },
      "execution_count": null,
      "outputs": [
        {
          "output_type": "execute_result",
          "data": {
            "text/plain": [
              "'7'"
            ],
            "application/vnd.google.colaboratory.intrinsic+json": {
              "type": "string"
            }
          },
          "metadata": {},
          "execution_count": 17
        }
      ]
    },
    {
      "cell_type": "code",
      "source": [
        "x=2"
      ],
      "metadata": {
        "id": "BtKKqnXIDTSB"
      },
      "execution_count": null,
      "outputs": []
    },
    {
      "cell_type": "code",
      "source": [
        "x"
      ],
      "metadata": {
        "colab": {
          "base_uri": "https://localhost:8080/"
        },
        "id": "dGWX-5jCDWAC",
        "outputId": "f94d571b-13c8-43b4-d065-614df21e3c30"
      },
      "execution_count": null,
      "outputs": [
        {
          "output_type": "execute_result",
          "data": {
            "text/plain": [
              "2"
            ]
          },
          "metadata": {},
          "execution_count": 21
        }
      ]
    },
    {
      "cell_type": "code",
      "source": [
        "type(a)"
      ],
      "metadata": {
        "colab": {
          "base_uri": "https://localhost:8080/"
        },
        "id": "hWAKpz_GDZjY",
        "outputId": "19df7863-e6bb-4a4b-ed1c-5eee435e3f66"
      },
      "execution_count": null,
      "outputs": [
        {
          "output_type": "execute_result",
          "data": {
            "text/plain": [
              "str"
            ]
          },
          "metadata": {},
          "execution_count": 22
        }
      ]
    },
    {
      "cell_type": "code",
      "source": [
        "type(x)"
      ],
      "metadata": {
        "colab": {
          "base_uri": "https://localhost:8080/"
        },
        "id": "ojAU2t4ADdVt",
        "outputId": "e2e4579a-d5ba-48e9-8520-4a156da0d2f6"
      },
      "execution_count": null,
      "outputs": [
        {
          "output_type": "execute_result",
          "data": {
            "text/plain": [
              "int"
            ]
          },
          "metadata": {},
          "execution_count": 23
        }
      ]
    },
    {
      "cell_type": "code",
      "source": [
        "a=int(input())"
      ],
      "metadata": {
        "colab": {
          "base_uri": "https://localhost:8080/"
        },
        "id": "1ZB19hZmD5RQ",
        "outputId": "d4d85ae5-6588-4b33-878d-8ee298a1092c"
      },
      "execution_count": null,
      "outputs": [
        {
          "name": "stdout",
          "output_type": "stream",
          "text": [
            "7\n"
          ]
        }
      ]
    },
    {
      "cell_type": "code",
      "source": [
        "a"
      ],
      "metadata": {
        "colab": {
          "base_uri": "https://localhost:8080/"
        },
        "id": "GRJC3V0xD_Su",
        "outputId": "5f4d3a2b-9bda-44ed-c545-df1cd760f919"
      },
      "execution_count": null,
      "outputs": [
        {
          "output_type": "execute_result",
          "data": {
            "text/plain": [
              "7"
            ]
          },
          "metadata": {},
          "execution_count": 25
        }
      ]
    },
    {
      "cell_type": "code",
      "source": [
        "type(a)"
      ],
      "metadata": {
        "colab": {
          "base_uri": "https://localhost:8080/"
        },
        "id": "sGEXO1xSEAK8",
        "outputId": "13ab2104-072d-40c3-997c-9ef6084a833a"
      },
      "execution_count": null,
      "outputs": [
        {
          "output_type": "execute_result",
          "data": {
            "text/plain": [
              "int"
            ]
          },
          "metadata": {},
          "execution_count": 26
        }
      ]
    },
    {
      "cell_type": "code",
      "source": [
        "print(a)"
      ],
      "metadata": {
        "colab": {
          "base_uri": "https://localhost:8080/"
        },
        "id": "yNNVKQkREF18",
        "outputId": "8e0324cb-970e-493e-9921-89d92022be83"
      },
      "execution_count": null,
      "outputs": [
        {
          "output_type": "stream",
          "name": "stdout",
          "text": [
            "7\n"
          ]
        }
      ]
    },
    {
      "cell_type": "code",
      "source": [
        "print(\"{}, {}, {}를 출력해보시오\".format(a,b,c))"
      ],
      "metadata": {
        "colab": {
          "base_uri": "https://localhost:8080/"
        },
        "id": "XNdAIBVZEIqm",
        "outputId": "3ec69776-0735-4f00-fe74-f7ad128b2a52"
      },
      "execution_count": null,
      "outputs": [
        {
          "output_type": "stream",
          "name": "stdout",
          "text": [
            "7, 5.6, Hello~를 출력해보시오\n"
          ]
        }
      ]
    },
    {
      "cell_type": "code",
      "source": [
        "print(\"{}, {}, {}를 출력해보시오\".format(a,b,x))"
      ],
      "metadata": {
        "colab": {
          "base_uri": "https://localhost:8080/"
        },
        "id": "AD9tV53UEeQq",
        "outputId": "a1599fa2-7669-4020-e65d-17b9f462e4e5"
      },
      "execution_count": null,
      "outputs": [
        {
          "output_type": "stream",
          "name": "stdout",
          "text": [
            "7, 5.6, 2를 출력해보시오\n"
          ]
        }
      ]
    },
    {
      "cell_type": "code",
      "source": [
        "print(\"%d, %f, %s를 출력해보시오\"%(a,b,c))"
      ],
      "metadata": {
        "colab": {
          "base_uri": "https://localhost:8080/"
        },
        "id": "Ao8MlS6-Eh6-",
        "outputId": "80be6e27-cdee-4238-ec69-f1f24614f10d"
      },
      "execution_count": null,
      "outputs": [
        {
          "output_type": "stream",
          "name": "stdout",
          "text": [
            "7, 5.600000, Hello~를 출력해보시오\n"
          ]
        }
      ]
    },
    {
      "cell_type": "code",
      "source": [
        "print(\"%d, %f, %s를 출력해보시오\"%(a,b,x))"
      ],
      "metadata": {
        "colab": {
          "base_uri": "https://localhost:8080/"
        },
        "id": "xOQiObakEzks",
        "outputId": "85e8a5b3-a296-48d3-e16e-ff4008ed1f86"
      },
      "execution_count": null,
      "outputs": [
        {
          "output_type": "stream",
          "name": "stdout",
          "text": [
            "7, 5.600000, 2를 출력해보시오\n"
          ]
        }
      ]
    },
    {
      "cell_type": "code",
      "source": [
        "x=1/7\n",
        "x"
      ],
      "metadata": {
        "colab": {
          "base_uri": "https://localhost:8080/"
        },
        "id": "I0X7bOTRE8a6",
        "outputId": "10c392f2-cbda-4387-b21b-cbec6f739a13"
      },
      "execution_count": null,
      "outputs": [
        {
          "output_type": "execute_result",
          "data": {
            "text/plain": [
              "0.14285714285714285"
            ]
          },
          "metadata": {},
          "execution_count": 36
        }
      ]
    },
    {
      "cell_type": "code",
      "source": [
        "x=round(x,5)"
      ],
      "metadata": {
        "id": "6AscqVIHFCfn"
      },
      "execution_count": null,
      "outputs": []
    },
    {
      "cell_type": "code",
      "source": [
        "x"
      ],
      "metadata": {
        "colab": {
          "base_uri": "https://localhost:8080/"
        },
        "id": "qTeH2XTIFGx7",
        "outputId": "04b84ee5-8ca2-47dd-b441-948fbe9ae3a0"
      },
      "execution_count": null,
      "outputs": [
        {
          "output_type": "execute_result",
          "data": {
            "text/plain": [
              "0.14286"
            ]
          },
          "metadata": {},
          "execution_count": 38
        }
      ]
    },
    {
      "cell_type": "markdown",
      "source": [
        "##인덱싱 슬라이싱\n",
        "문자열 숫자 0부터 세기(공백포함) "
      ],
      "metadata": {
        "id": "ZHz3QfnGFLEj"
      }
    },
    {
      "cell_type": "code",
      "source": [
        "str1=\"My name is Lee Hak Ho\""
      ],
      "metadata": {
        "id": "H4eJilbfFOJ2"
      },
      "execution_count": null,
      "outputs": []
    },
    {
      "cell_type": "code",
      "source": [
        "len(str1)"
      ],
      "metadata": {
        "colab": {
          "base_uri": "https://localhost:8080/"
        },
        "id": "_y21XRHoFyOU",
        "outputId": "12dc52d7-c06b-47d5-d6be-27d7ef7a6f22"
      },
      "execution_count": null,
      "outputs": [
        {
          "output_type": "execute_result",
          "data": {
            "text/plain": [
              "21"
            ]
          },
          "metadata": {},
          "execution_count": 40
        }
      ]
    },
    {
      "cell_type": "code",
      "source": [
        "str1[8]"
      ],
      "metadata": {
        "colab": {
          "base_uri": "https://localhost:8080/",
          "height": 35
        },
        "id": "TOJFBjnRGGak",
        "outputId": "5f753fff-1729-4720-e682-a3bfc4159a74"
      },
      "execution_count": null,
      "outputs": [
        {
          "output_type": "execute_result",
          "data": {
            "text/plain": [
              "'i'"
            ],
            "application/vnd.google.colaboratory.intrinsic+json": {
              "type": "string"
            }
          },
          "metadata": {},
          "execution_count": 46
        }
      ]
    },
    {
      "cell_type": "code",
      "source": [
        "str1[5]"
      ],
      "metadata": {
        "colab": {
          "base_uri": "https://localhost:8080/",
          "height": 35
        },
        "id": "5AxpLBA_GS_d",
        "outputId": "958b2631-7303-41f4-b4e4-c05d55dcce34"
      },
      "execution_count": null,
      "outputs": [
        {
          "output_type": "execute_result",
          "data": {
            "text/plain": [
              "'m'"
            ],
            "application/vnd.google.colaboratory.intrinsic+json": {
              "type": "string"
            }
          },
          "metadata": {},
          "execution_count": 47
        }
      ]
    },
    {
      "cell_type": "code",
      "source": [
        "str1[11:21]"
      ],
      "metadata": {
        "colab": {
          "base_uri": "https://localhost:8080/",
          "height": 35
        },
        "id": "8gBvCksUGZiY",
        "outputId": "e165c914-f93b-471a-fd55-62b89858512a"
      },
      "execution_count": null,
      "outputs": [
        {
          "output_type": "execute_result",
          "data": {
            "text/plain": [
              "'Lee Hak Ho'"
            ],
            "application/vnd.google.colaboratory.intrinsic+json": {
              "type": "string"
            }
          },
          "metadata": {},
          "execution_count": 50
        }
      ]
    },
    {
      "cell_type": "markdown",
      "source": [
        "##조건문\n",
        "if, if elif, if else\n"
      ],
      "metadata": {
        "id": "YcFfaZ3MHnhT"
      }
    },
    {
      "cell_type": "code",
      "source": [
        "d=19\n",
        "e=51"
      ],
      "metadata": {
        "id": "pjCMerDnGrYK"
      },
      "execution_count": null,
      "outputs": []
    },
    {
      "cell_type": "code",
      "source": [
        "if d<10: ## ; 아니고 :\n",
        "    print(\"참 입니다\")\n",
        "else:\n",
        "    print(\"거짓 입니다\")"
      ],
      "metadata": {
        "colab": {
          "base_uri": "https://localhost:8080/"
        },
        "id": "MmhoG9RRJInE",
        "outputId": "1321e84e-3cbb-40af-9611-49b0f77529a5"
      },
      "execution_count": null,
      "outputs": [
        {
          "output_type": "stream",
          "name": "stdout",
          "text": [
            "거짓 입니다\n"
          ]
        }
      ]
    },
    {
      "cell_type": "code",
      "source": [
        "int = e\n",
        "\n",
        "if(e>50):\n",
        "  print(\"{}는 50보다 크다\\n\".format(e))\n",
        "elif(e<50):\n",
        "  print(\"{}는 50보다 작다\\n\".format(e))"
      ],
      "metadata": {
        "colab": {
          "base_uri": "https://localhost:8080/"
        },
        "id": "iefyIAtgJ1Eg",
        "outputId": "26428069-db8d-40e9-d028-df2a5eb455a1"
      },
      "execution_count": null,
      "outputs": [
        {
          "output_type": "stream",
          "name": "stdout",
          "text": [
            "51는 50보다 크다\n",
            "\n"
          ]
        }
      ]
    },
    {
      "cell_type": "markdown",
      "source": [
        "##과제\n",
        "홀/짝수 구분, 학점 출력, 로그인, 태어난해/띠, 윤년찾기"
      ],
      "metadata": {
        "id": "WJ1vOyaaL5Sv"
      }
    },
    {
      "cell_type": "code",
      "source": [
        "##홀/짝수 구분\n",
        "num=int(input())\n",
        "if num%2==0:\n",
        "    print(\"{}짝수 입니다\".format(num))\n",
        "else:\n",
        "    print(\"{}홀수 입니다\".format(num))"
      ],
      "metadata": {
        "colab": {
          "base_uri": "https://localhost:8080/"
        },
        "id": "VJJzEPD-SO9x",
        "outputId": "3e70f27f-6f64-4f7d-fb49-2ea35b34b02b"
      },
      "execution_count": null,
      "outputs": [
        {
          "output_type": "stream",
          "name": "stdout",
          "text": [
            "21\n",
            "21홀수 입니다\n"
          ]
        }
      ]
    },
    {
      "cell_type": "code",
      "source": [
        "##학점 출력\n",
        "num=int(input())\n",
        "if(num>=90):\n",
        "  print(\"{}점 A 입니다\".format(num))\n",
        "elif(num>=80):\n",
        "  print(\"{}점 B 입니다\".format(num))\n",
        "elif(num>=70):\n",
        "  print(\"{}점 C 입니다\".format(num))\n",
        "elif(num>=60):\n",
        "  print(\"{}점 D 입니다\".format(num))\n",
        "elif(num>=50):\n",
        "  print(\"{}점 E 입니다\".format(num)) \n",
        "else:\n",
        "  print(\"{}점 F 입니다\".format(num))"
      ],
      "metadata": {
        "colab": {
          "base_uri": "https://localhost:8080/"
        },
        "id": "04qNAO5GS32D",
        "outputId": "d95bba69-3422-429c-ffaa-1bc7d13fdb5a"
      },
      "execution_count": null,
      "outputs": [
        {
          "output_type": "stream",
          "name": "stdout",
          "text": [
            "82\n",
            "82점 B 입니다\n"
          ]
        }
      ]
    },
    {
      "cell_type": "code",
      "source": [
        "##로그인\n",
        "ID=\"gkr123\"\n",
        "password=\"0828a\"\n",
        "\n",
        "id=input()\n",
        "if id == ID:\n",
        "  print(\"{} 확인완료\".format(ID))\n",
        "  pw=input()\n",
        "  if (pw==password):\n",
        "    print(\"비밀번호 확인완료\\n\")\n",
        "    print(\"로그인 됐습니다\\n\")\n",
        "  else:\n",
        "    print(\"비밀번호가 다릅니다\\n\")\n",
        "    print(\"다시 확인해주세요\\n\")\n",
        "\n",
        "else:\n",
        "   print(\"아이디가 다릅니다\\n\")\n",
        "   print(\"다시 확인해주세요\\n\")"
      ],
      "metadata": {
        "colab": {
          "base_uri": "https://localhost:8080/"
        },
        "id": "tTrnWNLbY56t",
        "outputId": "2630c90b-9dcd-4d5e-90ab-57f00f4f8ce4"
      },
      "execution_count": null,
      "outputs": [
        {
          "output_type": "stream",
          "name": "stdout",
          "text": [
            "gkr123\n",
            "gkr123 확인완료\n",
            "0828a\n",
            "비밀번호 확인완료\n",
            "\n",
            "로그인 됐습니다\n",
            "\n"
          ]
        }
      ]
    },
    {
      "cell_type": "code",
      "source": [
        "##태어난 해/띠 찾기\n",
        "by = int(input())\n",
        "animal = {0:\"원숭이\", 1:\"닭\", 2:\"개\", 3:\"돼지\", 4:\"쥐\", 5:\"소\", 6:\"범\", 7:\"토끼\", 8:\"용\", 9:\"뱀\", 10:\"말\", 11:\"양\" }\n",
        "print(\"{}년생 {}띠입니다\".format(by,animal[by%12]))"
      ],
      "metadata": {
        "colab": {
          "base_uri": "https://localhost:8080/"
        },
        "id": "YO7axvQqZTDx",
        "outputId": "61a67426-112b-442d-c386-a3415a5347ec"
      },
      "execution_count": null,
      "outputs": [
        {
          "output_type": "stream",
          "name": "stdout",
          "text": [
            "2000\n",
            "2000년생 용띠입니다\n"
          ]
        }
      ]
    },
    {
      "cell_type": "code",
      "source": [
        "y=int(input())\n",
        "if(y%4==0 and y%100!=0 or y%400==0):\n",
        "  print(\"{}년은 윤년입니다\".format(y))\n",
        "else:\n",
        "  print(\"{}년은 윤년이 아닙니다\".format(y))"
      ],
      "metadata": {
        "colab": {
          "base_uri": "https://localhost:8080/"
        },
        "id": "qdDnE290frvB",
        "outputId": "81760b34-ebf1-4834-d53f-51c040c3647e"
      },
      "execution_count": null,
      "outputs": [
        {
          "output_type": "stream",
          "name": "stdout",
          "text": [
            "2000\n",
            "2000년은 윤년입니다\n"
          ]
        }
      ]
    }
  ]
}