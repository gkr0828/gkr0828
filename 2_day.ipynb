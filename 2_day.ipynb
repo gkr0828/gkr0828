{
  "nbformat": 4,
  "nbformat_minor": 0,
  "metadata": {
    "colab": {
      "provenance": [],
      "authorship_tag": "ABX9TyP0AdlXeXx9eH2GEsPM7XC8",
      "include_colab_link": true
    },
    "kernelspec": {
      "name": "python3",
      "display_name": "Python 3"
    },
    "language_info": {
      "name": "python"
    }
  },
  "cells": [
    {
      "cell_type": "markdown",
      "metadata": {
        "id": "view-in-github",
        "colab_type": "text"
      },
      "source": [
        "<a href=\"https://colab.research.google.com/github/gkr0828/gkr0828/blob/main/2_day.ipynb\" target=\"_parent\"><img src=\"https://colab.research.google.com/assets/colab-badge.svg\" alt=\"Open In Colab\"/></a>"
      ]
    },
    {
      "cell_type": "markdown",
      "source": [
        "##반복문\n",
        "for\n",
        "for(조건문): (줄맞춤)내용\n",
        "간단히 반복하기 위해 i in range(반복횟수)) 사용"
      ],
      "metadata": {
        "id": "67sELvVEYIHe"
      }
    },
    {
      "cell_type": "code",
      "execution_count": 16,
      "metadata": {
        "colab": {
          "base_uri": "https://localhost:8080/"
        },
        "id": "imIrjprSXHg6",
        "outputId": "15a433be-fb85-4943-ec5e-3a70b0165d3c"
      },
      "outputs": [
        {
          "output_type": "stream",
          "name": "stdout",
          "text": [
            "0\n",
            "1\n",
            "2\n",
            "3\n",
            "4\n",
            "5\n",
            "6\n",
            "7\n",
            "8\n",
            "9\n"
          ]
        }
      ],
      "source": [
        "for i in range(10):\n",
        "  print(i)"
      ]
    },
    {
      "cell_type": "markdown",
      "source": [
        "append()"
      ],
      "metadata": {
        "id": "Bu4RaFJ4bESx"
      }
    },
    {
      "cell_type": "code",
      "source": [
        "a=[]\n",
        "for i in range(1,4):\n",
        "     a.append(i)\n",
        "print(a)"
      ],
      "metadata": {
        "colab": {
          "base_uri": "https://localhost:8080/"
        },
        "id": "cH7j-lZeYSlS",
        "outputId": "5392b687-0b25-42d2-d3cf-a721f6d0be57"
      },
      "execution_count": null,
      "outputs": [
        {
          "output_type": "stream",
          "name": "stdout",
          "text": [
            "[1, 2, 3]\n"
          ]
        }
      ]
    },
    {
      "cell_type": "code",
      "source": [
        "b=[]\n",
        "for i in range(4,7):\n",
        "    b.append(i)\n",
        "print(b)"
      ],
      "metadata": {
        "colab": {
          "base_uri": "https://localhost:8080/"
        },
        "id": "OeoS0mGuYSx8",
        "outputId": "eb97291b-4ddb-4e78-a142-669491cce1e2"
      },
      "execution_count": null,
      "outputs": [
        {
          "output_type": "stream",
          "name": "stdout",
          "text": [
            "[4, 5, 6]\n"
          ]
        }
      ]
    },
    {
      "cell_type": "code",
      "source": [
        "c=[]\n",
        "for i in range(3,6):\n",
        "    c.append(i)\n",
        "print(c)"
      ],
      "metadata": {
        "colab": {
          "base_uri": "https://localhost:8080/"
        },
        "id": "Ck7P40pza5Sq",
        "outputId": "90655c8b-06a7-4752-9998-523b96c6e90d"
      },
      "execution_count": null,
      "outputs": [
        {
          "output_type": "stream",
          "name": "stdout",
          "text": [
            "[3, 4, 5]\n"
          ]
        }
      ]
    },
    {
      "cell_type": "code",
      "source": [
        "##합집합\n",
        "UI= a+b\n",
        "UI"
      ],
      "metadata": {
        "colab": {
          "base_uri": "https://localhost:8080/"
        },
        "id": "UbkPjgWebKm7",
        "outputId": "fcb8cd18-6648-42e3-96dd-b097b0cd1a9e"
      },
      "execution_count": null,
      "outputs": [
        {
          "output_type": "execute_result",
          "data": {
            "text/plain": [
              "[1, 2, 3, 4, 5, 6]"
            ]
          },
          "metadata": {},
          "execution_count": 12
        }
      ]
    },
    {
      "cell_type": "code",
      "source": [
        "U2 = a+c\n",
        "U2"
      ],
      "metadata": {
        "colab": {
          "base_uri": "https://localhost:8080/"
        },
        "id": "kpikHdTJbkhW",
        "outputId": "16cb8fac-2c8c-4d76-cbc8-a0f00eb08fe9"
      },
      "execution_count": null,
      "outputs": [
        {
          "output_type": "execute_result",
          "data": {
            "text/plain": [
              "[1, 2, 3, 3, 4, 5]"
            ]
          },
          "metadata": {},
          "execution_count": 13
        }
      ]
    },
    {
      "cell_type": "code",
      "source": [
        "a=[1,2,3]\n",
        "b=[4,5,6]\n",
        "c=[3,4,5]\n",
        "for i in a:\n",
        "    if i in c:\n",
        "      print(i)"
      ],
      "metadata": {
        "colab": {
          "base_uri": "https://localhost:8080/"
        },
        "id": "hdV0Sb7YblDW",
        "outputId": "0ae27f72-68ff-416b-f0bb-42d29ab5ec57"
      },
      "execution_count": null,
      "outputs": [
        {
          "output_type": "stream",
          "name": "stdout",
          "text": [
            "3\n"
          ]
        }
      ]
    },
    {
      "cell_type": "code",
      "source": [
        "##교집합\n",
        "I=[]\n",
        "for i in a:\n",
        "    if i in c:\n",
        "      a.remove(i)\n",
        "a"
      ],
      "metadata": {
        "colab": {
          "base_uri": "https://localhost:8080/"
        },
        "id": "awf_VhKId5a7",
        "outputId": "75650e3c-8cd3-47ed-843c-5726c3d64e8a"
      },
      "execution_count": null,
      "outputs": [
        {
          "output_type": "execute_result",
          "data": {
            "text/plain": [
              "[1, 2]"
            ]
          },
          "metadata": {},
          "execution_count": 21
        }
      ]
    },
    {
      "cell_type": "code",
      "source": [
        "U=a+c\n",
        "U"
      ],
      "metadata": {
        "colab": {
          "base_uri": "https://localhost:8080/"
        },
        "id": "i8_evNVLeGLR",
        "outputId": "cf8e2fd1-750a-4b04-a8ae-29a6d147336e"
      },
      "execution_count": null,
      "outputs": [
        {
          "output_type": "execute_result",
          "data": {
            "text/plain": [
              "[1, 2, 3, 4, 5]"
            ]
          },
          "metadata": {},
          "execution_count": 22
        }
      ]
    },
    {
      "cell_type": "code",
      "source": [
        "a=[1,2,3]\n",
        "b=[4,5,6]\n",
        "c=[3,4,5]\n",
        "for i in a:\n",
        "    if i not in c:\n",
        "      c.append(i)\n",
        "c     "
      ],
      "metadata": {
        "colab": {
          "base_uri": "https://localhost:8080/"
        },
        "id": "vzg_wQccemrS",
        "outputId": "703df6d9-41ed-4011-9522-0ea21edae847"
      },
      "execution_count": null,
      "outputs": [
        {
          "output_type": "execute_result",
          "data": {
            "text/plain": [
              "[3, 4, 5, 1, 2]"
            ]
          },
          "metadata": {},
          "execution_count": 25
        }
      ]
    },
    {
      "cell_type": "code",
      "source": [
        "for i in c:\n",
        "    if i not in b:\n",
        "       c.remove(i)     \n",
        "c"
      ],
      "metadata": {
        "id": "k3cWBkAlfemN"
      },
      "execution_count": null,
      "outputs": []
    },
    {
      "cell_type": "markdown",
      "source": [
        "##while\n",
        "while(조건문):(들여쓰기)내용\n"
      ],
      "metadata": {
        "id": "rvVhfenrkZhN"
      }
    },
    {
      "cell_type": "code",
      "source": [
        "num=1\n",
        "while num<10:\n",
        "     print(num)\n",
        "     num+=1"
      ],
      "metadata": {
        "id": "dDyCWOx6k_kV"
      },
      "execution_count": null,
      "outputs": []
    },
    {
      "cell_type": "code",
      "source": [
        "#구구단\n",
        "num=1 #초기값\n",
        "num_a=1\n",
        "while num<10:\n",
        "  while num_a<10:\n",
        "    print(\"{} * {} = {}\".format(num,num_a,num*num_a)) #출력될 단 내용\n",
        "    num_a = num_a+1\n",
        "  num+=1\n",
        "  num_a=1\n",
        "  print(\"\\n\") #단이 끝나면 구분하기 위한 줄넘김"
      ],
      "metadata": {
        "id": "EKDmGoUEnpLU"
      },
      "execution_count": null,
      "outputs": []
    },
    {
      "cell_type": "code",
      "source": [
        "#팩토리얼\n",
        "f=1\n",
        "n=1\n",
        "while f < 200:\n",
        "  f*=n\n",
        "  n+=1\n",
        "  print(\"{} {}\".format(f,n))"
      ],
      "metadata": {
        "id": "7qKZU0VjVTfA"
      },
      "execution_count": null,
      "outputs": []
    },
    {
      "cell_type": "code",
      "source": [
        "while True:\n",
        "    print(\"숫자 입력\\n\")\n",
        "    num = input()\n",
        "    if num == \"12345\":\n",
        "      print(\"로그인 되었습니다.\\n\")\n",
        "      break\n",
        "    else:\n",
        "         print(\"로그인 실패 다시 입력해주세요\\n\")\n",
        "         continue"
      ],
      "metadata": {
        "id": "ecsJ9owBlxL6"
      },
      "execution_count": null,
      "outputs": []
    },
    {
      "cell_type": "code",
      "source": [
        "##로또 번호 6개 추출\n",
        "import random"
      ],
      "metadata": {
        "id": "gBMNU39OqKQC"
      },
      "execution_count": 2,
      "outputs": []
    },
    {
      "cell_type": "code",
      "source": [
        "num_range = range(1,46)\n",
        "num_list = list(num_range)\n",
        "print(num_list)"
      ],
      "metadata": {
        "id": "JTDmKM77qU4C"
      },
      "execution_count": null,
      "outputs": []
    },
    {
      "cell_type": "code",
      "source": [
        "random.shuffle(num_list)\n",
        "print(num_list)\n",
        "#len(num_list)"
      ],
      "metadata": {
        "id": "si39nM6FsKFo"
      },
      "execution_count": null,
      "outputs": []
    },
    {
      "cell_type": "code",
      "source": [
        "lotto=[]\n",
        "while len(lotto)<6:\n",
        "   lotto.append(random.randrange(1,46))\n",
        "print(lotto) "
      ],
      "metadata": {
        "id": "RUzo9L4SsYxI"
      },
      "execution_count": null,
      "outputs": []
    },
    {
      "cell_type": "code",
      "source": [
        "lotto_range=list(range(1,46))\n",
        "random.shuffle(lotto_range)\n",
        "\n",
        "lotto=[]\n",
        "i=0\n",
        "\n",
        "while len(lotto)<6:\n",
        "  lotto.append(lotto_range[i])\n",
        "  i+=1\n",
        "print(lotto)"
      ],
      "metadata": {
        "id": "L-CpoYKMTIBt"
      },
      "execution_count": null,
      "outputs": []
    },
    {
      "cell_type": "markdown",
      "source": [
        "##숫자 샘플링\n",
        "1. random():0~1 사이 float 리턴\n",
        "2. randinf(a,b):a와b사이 정수리턴\n",
        "3. nuiform(a,b):a와b사이float리턴\n",
        "4. ramdrange(a,b,d):a와b사이d간격의 숫값 리턴\n",
        "5. shuffle(집합):집합의 원소를 모두 섞어서 리턴\n",
        "6. sample(집합, 수):집합에서 수 만큼 추출\n"
      ],
      "metadata": {
        "id": "a82RMZbjssgX"
      }
    },
    {
      "cell_type": "markdown",
      "source": [
        "##과제\n",
        "약수찾기, 소수찾기, 최대공약수 최소공배수 찾기, 소인수 찾기\n",
        "\n"
      ],
      "metadata": {
        "id": "uLCA7yRThBls"
      }
    },
    {
      "cell_type": "code",
      "source": [
        "#약수\n",
        "a = int(input()) #입력\n",
        "b=[]\n",
        "for i in range(2,a):\n",
        "  if a % i  == 0:\n",
        "     b.append(i) \n",
        "print(b) #출력"
      ],
      "metadata": {
        "colab": {
          "base_uri": "https://localhost:8080/"
        },
        "id": "9S45i8_Kg_-O",
        "outputId": "238a79aa-3681-4bf2-8a3f-234a243f6e7b"
      },
      "execution_count": 19,
      "outputs": [
        {
          "output_type": "stream",
          "name": "stdout",
          "text": [
            "60\n",
            "[2, 3, 4, 5, 6, 10, 12, 15, 20, 30]\n"
          ]
        }
      ]
    },
    {
      "cell_type": "code",
      "source": [
        "#최대공약수\n",
        "c = int(input()) #입력\n",
        "d = int(input())\n",
        "e=[]\n",
        "f=[]\n",
        "for i in range(2,c):\n",
        "  if c % i  == 0:\n",
        "     e.append(i)\n",
        "for i in range(2,d):\n",
        "  if d % i  == 0:\n",
        "     f.append(i)  \n",
        "print(e) #출력\n",
        "print(f)"
      ],
      "metadata": {
        "colab": {
          "base_uri": "https://localhost:8080/"
        },
        "id": "cvOjBVXYjgGS",
        "outputId": "37624124-aec5-43c1-cc73-b0f98879b830"
      },
      "execution_count": 21,
      "outputs": [
        {
          "output_type": "stream",
          "name": "stdout",
          "text": [
            "40\n",
            "180\n",
            "[2, 4, 5, 8, 10, 20]\n",
            "[2, 3, 4, 5, 6, 9, 10, 12, 15, 18, 20, 30, 36, 45, 60, 90]\n"
          ]
        }
      ]
    },
    {
      "cell_type": "code",
      "source": [
        "g=[]\n",
        "for i in e:\n",
        "  if i in f:\n",
        "    g.append(i)\n",
        "print(g)\n",
        "GCM=g[-1]\n",
        "print(\"최대 공약수는 {}입니다.\".format(GCM))"
      ],
      "metadata": {
        "colab": {
          "base_uri": "https://localhost:8080/"
        },
        "id": "61Vb1p-Okslz",
        "outputId": "f8723941-ca54-436c-8bc9-a998f521e82a"
      },
      "execution_count": 23,
      "outputs": [
        {
          "output_type": "stream",
          "name": "stdout",
          "text": [
            "[2, 4, 5, 10, 20]\n",
            "최대 공약수는 20입니다.\n"
          ]
        }
      ]
    },
    {
      "cell_type": "code",
      "source": [
        "#최소공배수  \n",
        "#AB = 최소공배수 * 최대공약수  최소공배수 = AB / 최대공약수\n",
        "AB = c*d\n",
        "g = AB/GCM\n",
        "print(\"최소공배수는 {}입니다\".format(g))"
      ],
      "metadata": {
        "colab": {
          "base_uri": "https://localhost:8080/"
        },
        "id": "cU35jMhhmruM",
        "outputId": "b4616641-1286-4499-95ec-4813527bd8c6"
      },
      "execution_count": 24,
      "outputs": [
        {
          "output_type": "stream",
          "name": "stdout",
          "text": [
            "최소공배수는 360.0입니다\n"
          ]
        }
      ]
    },
    {
      "cell_type": "code",
      "source": [
        "print(b)\n",
        "len(b)\n",
        "print(b[-3])\n",
        "b[2]"
      ],
      "metadata": {
        "colab": {
          "base_uri": "https://localhost:8080/"
        },
        "id": "GTGPXqcKo5Oh",
        "outputId": "1bd9a479-2a60-4987-b550-14d6708f8f21"
      },
      "execution_count": 38,
      "outputs": [
        {
          "output_type": "stream",
          "name": "stdout",
          "text": [
            "[2, 3, 4, 5, 6, 10, 12, 15, 20, 30]\n",
            "15\n"
          ]
        },
        {
          "output_type": "execute_result",
          "data": {
            "text/plain": [
              "4"
            ]
          },
          "metadata": {},
          "execution_count": 38
        }
      ]
    },
    {
      "cell_type": "code",
      "source": [
        "#소인수,소수\n",
        "c = int(input())\n",
        "f=[]\n",
        "k=[]\n",
        "cheak = True\n",
        "for i in range(1,c):\n",
        "  if c % i  == 0:\n",
        "     f.append(i) \n",
        "print(\"{}의 소인수는 {}다.\".format(c,f))\n",
        "for i in f:\n",
        "    for j in range(2,i):\n",
        "      if i % j == 0:\n",
        "        cheak = False\n",
        "        break\n",
        "    if cheak == True:\n",
        "        k.append(i)\n",
        "    cheak = True   \n",
        "print(\"{}의 소수는 {}다.\".format(c,k))"
      ],
      "metadata": {
        "colab": {
          "base_uri": "https://localhost:8080/"
        },
        "id": "Ul8stCmcpimi",
        "outputId": "7929c310-0718-4d7c-faa2-1aad613ad229"
      },
      "execution_count": 67,
      "outputs": [
        {
          "output_type": "stream",
          "name": "stdout",
          "text": [
            "90\n",
            "90의 소인수는 [1, 2, 3, 5, 6, 9, 10, 15, 18, 30, 45]다.\n",
            "90의 소수는 [1, 2, 3, 5]다.\n"
          ]
        }
      ]
    },
    {
      "cell_type": "code",
      "source": [
        "#소수만\n",
        "n = int(input())\n",
        "p=[]\n",
        "o=[]\n",
        "cheak = True\n",
        "for i in range(1,n):\n",
        "  if n % i  == 0:\n",
        "     p.append(i) \n",
        "for i in p:\n",
        "    for j in range(2,i):\n",
        "      if i % j == 0:\n",
        "        cheak = False\n",
        "        break\n",
        "    if cheak == True:\n",
        "        o.append(i)\n",
        "    cheak = True   \n",
        "print(\"{}의 소수는{}다\".format(n,o))"
      ],
      "metadata": {
        "colab": {
          "base_uri": "https://localhost:8080/"
        },
        "id": "guDLKx-JZXQ2",
        "outputId": "4e4a5f64-edf0-450f-cf97-6c2c09c87c60"
      },
      "execution_count": 71,
      "outputs": [
        {
          "output_type": "stream",
          "name": "stdout",
          "text": [
            "33\n",
            "33의 소수는[1, 3, 11]다\n"
          ]
        }
      ]
    }
  ]
}