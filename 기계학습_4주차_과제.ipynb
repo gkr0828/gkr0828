{
  "nbformat": 4,
  "nbformat_minor": 0,
  "metadata": {
    "colab": {
      "provenance": [],
      "mount_file_id": "1uxTtH8txQFCFfYW5TsDZvLD0fnLtUd5O",
      "authorship_tag": "ABX9TyOStMt8FTljLy0TCDDXUFtJ",
      "include_colab_link": true
    },
    "kernelspec": {
      "name": "python3",
      "display_name": "Python 3"
    },
    "language_info": {
      "name": "python"
    }
  },
  "cells": [
    {
      "cell_type": "markdown",
      "metadata": {
        "id": "view-in-github",
        "colab_type": "text"
      },
      "source": [
        "<a href=\"https://colab.research.google.com/github/gkr0828/gkr0828/blob/main/%EA%B8%B0%EA%B3%84%ED%95%99%EC%8A%B5_4%EC%A3%BC%EC%B0%A8_%EA%B3%BC%EC%A0%9C.ipynb\" target=\"_parent\"><img src=\"https://colab.research.google.com/assets/colab-badge.svg\" alt=\"Open In Colab\"/></a>"
      ]
    },
    {
      "cell_type": "code",
      "execution_count": null,
      "metadata": {
        "id": "NWNR25xDkBTh"
      },
      "outputs": [],
      "source": [
        "import pandas as pd\n",
        "import numpy as np\n",
        "import matplotlib.pyplot as plt"
      ]
    },
    {
      "cell_type": "code",
      "source": [
        "file=\"/content/sample_data/chipotle.tsv\"\n",
        "chipo = pd.read_csv(file, sep = \"\\t\")"
      ],
      "metadata": {
        "id": "gmAIIhFnk6aE"
      },
      "execution_count": null,
      "outputs": []
    },
    {
      "cell_type": "code",
      "source": [
        "#head() > 앞 부분\n",
        "chipo.head()"
      ],
      "metadata": {
        "colab": {
          "base_uri": "https://localhost:8080/",
          "height": 320
        },
        "id": "VVotK3SElJvA",
        "outputId": "c4ab810f-5b77-46a6-f3d4-b55f4df881bc"
      },
      "execution_count": null,
      "outputs": [
        {
          "output_type": "execute_result",
          "data": {
            "text/plain": [
              "   order_id  quantity                              item_name  \\\n",
              "0         1         1           Chips and Fresh Tomato Salsa   \n",
              "1         1         1                                   Izze   \n",
              "2         1         1                       Nantucket Nectar   \n",
              "3         1         1  Chips and Tomatillo-Green Chili Salsa   \n",
              "4         2         2                           Chicken Bowl   \n",
              "\n",
              "                                  choice_description item_price  \n",
              "0                                                NaN     $2.39   \n",
              "1                                       [Clementine]     $3.39   \n",
              "2                                            [Apple]     $3.39   \n",
              "3                                                NaN     $2.39   \n",
              "4  [Tomatillo-Red Chili Salsa (Hot), [Black Beans...    $16.98   "
            ],
            "text/html": [
              "\n",
              "  <div id=\"df-7dab1ef6-f3e5-4599-9dfa-395b4e8d20f8\">\n",
              "    <div class=\"colab-df-container\">\n",
              "      <div>\n",
              "<style scoped>\n",
              "    .dataframe tbody tr th:only-of-type {\n",
              "        vertical-align: middle;\n",
              "    }\n",
              "\n",
              "    .dataframe tbody tr th {\n",
              "        vertical-align: top;\n",
              "    }\n",
              "\n",
              "    .dataframe thead th {\n",
              "        text-align: right;\n",
              "    }\n",
              "</style>\n",
              "<table border=\"1\" class=\"dataframe\">\n",
              "  <thead>\n",
              "    <tr style=\"text-align: right;\">\n",
              "      <th></th>\n",
              "      <th>order_id</th>\n",
              "      <th>quantity</th>\n",
              "      <th>item_name</th>\n",
              "      <th>choice_description</th>\n",
              "      <th>item_price</th>\n",
              "    </tr>\n",
              "  </thead>\n",
              "  <tbody>\n",
              "    <tr>\n",
              "      <th>0</th>\n",
              "      <td>1</td>\n",
              "      <td>1</td>\n",
              "      <td>Chips and Fresh Tomato Salsa</td>\n",
              "      <td>NaN</td>\n",
              "      <td>$2.39</td>\n",
              "    </tr>\n",
              "    <tr>\n",
              "      <th>1</th>\n",
              "      <td>1</td>\n",
              "      <td>1</td>\n",
              "      <td>Izze</td>\n",
              "      <td>[Clementine]</td>\n",
              "      <td>$3.39</td>\n",
              "    </tr>\n",
              "    <tr>\n",
              "      <th>2</th>\n",
              "      <td>1</td>\n",
              "      <td>1</td>\n",
              "      <td>Nantucket Nectar</td>\n",
              "      <td>[Apple]</td>\n",
              "      <td>$3.39</td>\n",
              "    </tr>\n",
              "    <tr>\n",
              "      <th>3</th>\n",
              "      <td>1</td>\n",
              "      <td>1</td>\n",
              "      <td>Chips and Tomatillo-Green Chili Salsa</td>\n",
              "      <td>NaN</td>\n",
              "      <td>$2.39</td>\n",
              "    </tr>\n",
              "    <tr>\n",
              "      <th>4</th>\n",
              "      <td>2</td>\n",
              "      <td>2</td>\n",
              "      <td>Chicken Bowl</td>\n",
              "      <td>[Tomatillo-Red Chili Salsa (Hot), [Black Beans...</td>\n",
              "      <td>$16.98</td>\n",
              "    </tr>\n",
              "  </tbody>\n",
              "</table>\n",
              "</div>\n",
              "      <button class=\"colab-df-convert\" onclick=\"convertToInteractive('df-7dab1ef6-f3e5-4599-9dfa-395b4e8d20f8')\"\n",
              "              title=\"Convert this dataframe to an interactive table.\"\n",
              "              style=\"display:none;\">\n",
              "        \n",
              "  <svg xmlns=\"http://www.w3.org/2000/svg\" height=\"24px\"viewBox=\"0 0 24 24\"\n",
              "       width=\"24px\">\n",
              "    <path d=\"M0 0h24v24H0V0z\" fill=\"none\"/>\n",
              "    <path d=\"M18.56 5.44l.94 2.06.94-2.06 2.06-.94-2.06-.94-.94-2.06-.94 2.06-2.06.94zm-11 1L8.5 8.5l.94-2.06 2.06-.94-2.06-.94L8.5 2.5l-.94 2.06-2.06.94zm10 10l.94 2.06.94-2.06 2.06-.94-2.06-.94-.94-2.06-.94 2.06-2.06.94z\"/><path d=\"M17.41 7.96l-1.37-1.37c-.4-.4-.92-.59-1.43-.59-.52 0-1.04.2-1.43.59L10.3 9.45l-7.72 7.72c-.78.78-.78 2.05 0 2.83L4 21.41c.39.39.9.59 1.41.59.51 0 1.02-.2 1.41-.59l7.78-7.78 2.81-2.81c.8-.78.8-2.07 0-2.86zM5.41 20L4 18.59l7.72-7.72 1.47 1.35L5.41 20z\"/>\n",
              "  </svg>\n",
              "      </button>\n",
              "      \n",
              "  <style>\n",
              "    .colab-df-container {\n",
              "      display:flex;\n",
              "      flex-wrap:wrap;\n",
              "      gap: 12px;\n",
              "    }\n",
              "\n",
              "    .colab-df-convert {\n",
              "      background-color: #E8F0FE;\n",
              "      border: none;\n",
              "      border-radius: 50%;\n",
              "      cursor: pointer;\n",
              "      display: none;\n",
              "      fill: #1967D2;\n",
              "      height: 32px;\n",
              "      padding: 0 0 0 0;\n",
              "      width: 32px;\n",
              "    }\n",
              "\n",
              "    .colab-df-convert:hover {\n",
              "      background-color: #E2EBFA;\n",
              "      box-shadow: 0px 1px 2px rgba(60, 64, 67, 0.3), 0px 1px 3px 1px rgba(60, 64, 67, 0.15);\n",
              "      fill: #174EA6;\n",
              "    }\n",
              "\n",
              "    [theme=dark] .colab-df-convert {\n",
              "      background-color: #3B4455;\n",
              "      fill: #D2E3FC;\n",
              "    }\n",
              "\n",
              "    [theme=dark] .colab-df-convert:hover {\n",
              "      background-color: #434B5C;\n",
              "      box-shadow: 0px 1px 3px 1px rgba(0, 0, 0, 0.15);\n",
              "      filter: drop-shadow(0px 1px 2px rgba(0, 0, 0, 0.3));\n",
              "      fill: #FFFFFF;\n",
              "    }\n",
              "  </style>\n",
              "\n",
              "      <script>\n",
              "        const buttonEl =\n",
              "          document.querySelector('#df-7dab1ef6-f3e5-4599-9dfa-395b4e8d20f8 button.colab-df-convert');\n",
              "        buttonEl.style.display =\n",
              "          google.colab.kernel.accessAllowed ? 'block' : 'none';\n",
              "\n",
              "        async function convertToInteractive(key) {\n",
              "          const element = document.querySelector('#df-7dab1ef6-f3e5-4599-9dfa-395b4e8d20f8');\n",
              "          const dataTable =\n",
              "            await google.colab.kernel.invokeFunction('convertToInteractive',\n",
              "                                                     [key], {});\n",
              "          if (!dataTable) return;\n",
              "\n",
              "          const docLinkHtml = 'Like what you see? Visit the ' +\n",
              "            '<a target=\"_blank\" href=https://colab.research.google.com/notebooks/data_table.ipynb>data table notebook</a>'\n",
              "            + ' to learn more about interactive tables.';\n",
              "          element.innerHTML = '';\n",
              "          dataTable['output_type'] = 'display_data';\n",
              "          await google.colab.output.renderOutput(dataTable, element);\n",
              "          const docLink = document.createElement('div');\n",
              "          docLink.innerHTML = docLinkHtml;\n",
              "          element.appendChild(docLink);\n",
              "        }\n",
              "      </script>\n",
              "    </div>\n",
              "  </div>\n",
              "  "
            ]
          },
          "metadata": {},
          "execution_count": 5
        }
      ]
    },
    {
      "cell_type": "code",
      "source": [
        "#tail() > 끝 부분\n",
        "chipo.tail()"
      ],
      "metadata": {
        "colab": {
          "base_uri": "https://localhost:8080/",
          "height": 337
        },
        "id": "RkJVmgQilV__",
        "outputId": "c25e2a23-59aa-47e9-8d09-1fd53e213902"
      },
      "execution_count": null,
      "outputs": [
        {
          "output_type": "execute_result",
          "data": {
            "text/plain": [
              "      order_id  quantity           item_name  \\\n",
              "4617      1833         1       Steak Burrito   \n",
              "4618      1833         1       Steak Burrito   \n",
              "4619      1834         1  Chicken Salad Bowl   \n",
              "4620      1834         1  Chicken Salad Bowl   \n",
              "4621      1834         1  Chicken Salad Bowl   \n",
              "\n",
              "                                     choice_description item_price  \n",
              "4617  [Fresh Tomato Salsa, [Rice, Black Beans, Sour ...    $11.75   \n",
              "4618  [Fresh Tomato Salsa, [Rice, Sour Cream, Cheese...    $11.75   \n",
              "4619  [Fresh Tomato Salsa, [Fajita Vegetables, Pinto...    $11.25   \n",
              "4620  [Fresh Tomato Salsa, [Fajita Vegetables, Lettu...     $8.75   \n",
              "4621  [Fresh Tomato Salsa, [Fajita Vegetables, Pinto...     $8.75   "
            ],
            "text/html": [
              "\n",
              "  <div id=\"df-39a8a231-a13e-4505-8e75-8ad0a23d4703\">\n",
              "    <div class=\"colab-df-container\">\n",
              "      <div>\n",
              "<style scoped>\n",
              "    .dataframe tbody tr th:only-of-type {\n",
              "        vertical-align: middle;\n",
              "    }\n",
              "\n",
              "    .dataframe tbody tr th {\n",
              "        vertical-align: top;\n",
              "    }\n",
              "\n",
              "    .dataframe thead th {\n",
              "        text-align: right;\n",
              "    }\n",
              "</style>\n",
              "<table border=\"1\" class=\"dataframe\">\n",
              "  <thead>\n",
              "    <tr style=\"text-align: right;\">\n",
              "      <th></th>\n",
              "      <th>order_id</th>\n",
              "      <th>quantity</th>\n",
              "      <th>item_name</th>\n",
              "      <th>choice_description</th>\n",
              "      <th>item_price</th>\n",
              "    </tr>\n",
              "  </thead>\n",
              "  <tbody>\n",
              "    <tr>\n",
              "      <th>4617</th>\n",
              "      <td>1833</td>\n",
              "      <td>1</td>\n",
              "      <td>Steak Burrito</td>\n",
              "      <td>[Fresh Tomato Salsa, [Rice, Black Beans, Sour ...</td>\n",
              "      <td>$11.75</td>\n",
              "    </tr>\n",
              "    <tr>\n",
              "      <th>4618</th>\n",
              "      <td>1833</td>\n",
              "      <td>1</td>\n",
              "      <td>Steak Burrito</td>\n",
              "      <td>[Fresh Tomato Salsa, [Rice, Sour Cream, Cheese...</td>\n",
              "      <td>$11.75</td>\n",
              "    </tr>\n",
              "    <tr>\n",
              "      <th>4619</th>\n",
              "      <td>1834</td>\n",
              "      <td>1</td>\n",
              "      <td>Chicken Salad Bowl</td>\n",
              "      <td>[Fresh Tomato Salsa, [Fajita Vegetables, Pinto...</td>\n",
              "      <td>$11.25</td>\n",
              "    </tr>\n",
              "    <tr>\n",
              "      <th>4620</th>\n",
              "      <td>1834</td>\n",
              "      <td>1</td>\n",
              "      <td>Chicken Salad Bowl</td>\n",
              "      <td>[Fresh Tomato Salsa, [Fajita Vegetables, Lettu...</td>\n",
              "      <td>$8.75</td>\n",
              "    </tr>\n",
              "    <tr>\n",
              "      <th>4621</th>\n",
              "      <td>1834</td>\n",
              "      <td>1</td>\n",
              "      <td>Chicken Salad Bowl</td>\n",
              "      <td>[Fresh Tomato Salsa, [Fajita Vegetables, Pinto...</td>\n",
              "      <td>$8.75</td>\n",
              "    </tr>\n",
              "  </tbody>\n",
              "</table>\n",
              "</div>\n",
              "      <button class=\"colab-df-convert\" onclick=\"convertToInteractive('df-39a8a231-a13e-4505-8e75-8ad0a23d4703')\"\n",
              "              title=\"Convert this dataframe to an interactive table.\"\n",
              "              style=\"display:none;\">\n",
              "        \n",
              "  <svg xmlns=\"http://www.w3.org/2000/svg\" height=\"24px\"viewBox=\"0 0 24 24\"\n",
              "       width=\"24px\">\n",
              "    <path d=\"M0 0h24v24H0V0z\" fill=\"none\"/>\n",
              "    <path d=\"M18.56 5.44l.94 2.06.94-2.06 2.06-.94-2.06-.94-.94-2.06-.94 2.06-2.06.94zm-11 1L8.5 8.5l.94-2.06 2.06-.94-2.06-.94L8.5 2.5l-.94 2.06-2.06.94zm10 10l.94 2.06.94-2.06 2.06-.94-2.06-.94-.94-2.06-.94 2.06-2.06.94z\"/><path d=\"M17.41 7.96l-1.37-1.37c-.4-.4-.92-.59-1.43-.59-.52 0-1.04.2-1.43.59L10.3 9.45l-7.72 7.72c-.78.78-.78 2.05 0 2.83L4 21.41c.39.39.9.59 1.41.59.51 0 1.02-.2 1.41-.59l7.78-7.78 2.81-2.81c.8-.78.8-2.07 0-2.86zM5.41 20L4 18.59l7.72-7.72 1.47 1.35L5.41 20z\"/>\n",
              "  </svg>\n",
              "      </button>\n",
              "      \n",
              "  <style>\n",
              "    .colab-df-container {\n",
              "      display:flex;\n",
              "      flex-wrap:wrap;\n",
              "      gap: 12px;\n",
              "    }\n",
              "\n",
              "    .colab-df-convert {\n",
              "      background-color: #E8F0FE;\n",
              "      border: none;\n",
              "      border-radius: 50%;\n",
              "      cursor: pointer;\n",
              "      display: none;\n",
              "      fill: #1967D2;\n",
              "      height: 32px;\n",
              "      padding: 0 0 0 0;\n",
              "      width: 32px;\n",
              "    }\n",
              "\n",
              "    .colab-df-convert:hover {\n",
              "      background-color: #E2EBFA;\n",
              "      box-shadow: 0px 1px 2px rgba(60, 64, 67, 0.3), 0px 1px 3px 1px rgba(60, 64, 67, 0.15);\n",
              "      fill: #174EA6;\n",
              "    }\n",
              "\n",
              "    [theme=dark] .colab-df-convert {\n",
              "      background-color: #3B4455;\n",
              "      fill: #D2E3FC;\n",
              "    }\n",
              "\n",
              "    [theme=dark] .colab-df-convert:hover {\n",
              "      background-color: #434B5C;\n",
              "      box-shadow: 0px 1px 3px 1px rgba(0, 0, 0, 0.15);\n",
              "      filter: drop-shadow(0px 1px 2px rgba(0, 0, 0, 0.3));\n",
              "      fill: #FFFFFF;\n",
              "    }\n",
              "  </style>\n",
              "\n",
              "      <script>\n",
              "        const buttonEl =\n",
              "          document.querySelector('#df-39a8a231-a13e-4505-8e75-8ad0a23d4703 button.colab-df-convert');\n",
              "        buttonEl.style.display =\n",
              "          google.colab.kernel.accessAllowed ? 'block' : 'none';\n",
              "\n",
              "        async function convertToInteractive(key) {\n",
              "          const element = document.querySelector('#df-39a8a231-a13e-4505-8e75-8ad0a23d4703');\n",
              "          const dataTable =\n",
              "            await google.colab.kernel.invokeFunction('convertToInteractive',\n",
              "                                                     [key], {});\n",
              "          if (!dataTable) return;\n",
              "\n",
              "          const docLinkHtml = 'Like what you see? Visit the ' +\n",
              "            '<a target=\"_blank\" href=https://colab.research.google.com/notebooks/data_table.ipynb>data table notebook</a>'\n",
              "            + ' to learn more about interactive tables.';\n",
              "          element.innerHTML = '';\n",
              "          dataTable['output_type'] = 'display_data';\n",
              "          await google.colab.output.renderOutput(dataTable, element);\n",
              "          const docLink = document.createElement('div');\n",
              "          docLink.innerHTML = docLinkHtml;\n",
              "          element.appendChild(docLink);\n",
              "        }\n",
              "      </script>\n",
              "    </div>\n",
              "  </div>\n",
              "  "
            ]
          },
          "metadata": {},
          "execution_count": 6
        }
      ]
    },
    {
      "cell_type": "code",
      "source": [
        "chipo.info()"
      ],
      "metadata": {
        "colab": {
          "base_uri": "https://localhost:8080/"
        },
        "id": "BJt6QOxwl5vg",
        "outputId": "f47e6edd-8b4e-48d0-e1cf-fc7fdef7daf4"
      },
      "execution_count": null,
      "outputs": [
        {
          "output_type": "stream",
          "name": "stdout",
          "text": [
            "<class 'pandas.core.frame.DataFrame'>\n",
            "RangeIndex: 4622 entries, 0 to 4621\n",
            "Data columns (total 5 columns):\n",
            " #   Column              Non-Null Count  Dtype \n",
            "---  ------              --------------  ----- \n",
            " 0   order_id            4622 non-null   int64 \n",
            " 1   quantity            4622 non-null   int64 \n",
            " 2   item_name           4622 non-null   object\n",
            " 3   choice_description  3376 non-null   object\n",
            " 4   item_price          4622 non-null   object\n",
            "dtypes: int64(2), object(3)\n",
            "memory usage: 180.7+ KB\n"
          ]
        }
      ]
    },
    {
      "cell_type": "code",
      "source": [
        "chipo.isnull()"
      ],
      "metadata": {
        "colab": {
          "base_uri": "https://localhost:8080/",
          "height": 424
        },
        "id": "YTBiO7BoBIKw",
        "outputId": "7436ce62-5a46-48cb-9962-01b7ed94ac20"
      },
      "execution_count": null,
      "outputs": [
        {
          "output_type": "execute_result",
          "data": {
            "text/plain": [
              "      order_id  quantity  item_name  choice_description  item_price\n",
              "0        False     False      False                True       False\n",
              "1        False     False      False               False       False\n",
              "2        False     False      False               False       False\n",
              "3        False     False      False                True       False\n",
              "4        False     False      False               False       False\n",
              "...        ...       ...        ...                 ...         ...\n",
              "4617     False     False      False               False       False\n",
              "4618     False     False      False               False       False\n",
              "4619     False     False      False               False       False\n",
              "4620     False     False      False               False       False\n",
              "4621     False     False      False               False       False\n",
              "\n",
              "[4622 rows x 5 columns]"
            ],
            "text/html": [
              "\n",
              "  <div id=\"df-6903c3aa-7574-461e-a5d8-2dcb492b2c22\">\n",
              "    <div class=\"colab-df-container\">\n",
              "      <div>\n",
              "<style scoped>\n",
              "    .dataframe tbody tr th:only-of-type {\n",
              "        vertical-align: middle;\n",
              "    }\n",
              "\n",
              "    .dataframe tbody tr th {\n",
              "        vertical-align: top;\n",
              "    }\n",
              "\n",
              "    .dataframe thead th {\n",
              "        text-align: right;\n",
              "    }\n",
              "</style>\n",
              "<table border=\"1\" class=\"dataframe\">\n",
              "  <thead>\n",
              "    <tr style=\"text-align: right;\">\n",
              "      <th></th>\n",
              "      <th>order_id</th>\n",
              "      <th>quantity</th>\n",
              "      <th>item_name</th>\n",
              "      <th>choice_description</th>\n",
              "      <th>item_price</th>\n",
              "    </tr>\n",
              "  </thead>\n",
              "  <tbody>\n",
              "    <tr>\n",
              "      <th>0</th>\n",
              "      <td>False</td>\n",
              "      <td>False</td>\n",
              "      <td>False</td>\n",
              "      <td>True</td>\n",
              "      <td>False</td>\n",
              "    </tr>\n",
              "    <tr>\n",
              "      <th>1</th>\n",
              "      <td>False</td>\n",
              "      <td>False</td>\n",
              "      <td>False</td>\n",
              "      <td>False</td>\n",
              "      <td>False</td>\n",
              "    </tr>\n",
              "    <tr>\n",
              "      <th>2</th>\n",
              "      <td>False</td>\n",
              "      <td>False</td>\n",
              "      <td>False</td>\n",
              "      <td>False</td>\n",
              "      <td>False</td>\n",
              "    </tr>\n",
              "    <tr>\n",
              "      <th>3</th>\n",
              "      <td>False</td>\n",
              "      <td>False</td>\n",
              "      <td>False</td>\n",
              "      <td>True</td>\n",
              "      <td>False</td>\n",
              "    </tr>\n",
              "    <tr>\n",
              "      <th>4</th>\n",
              "      <td>False</td>\n",
              "      <td>False</td>\n",
              "      <td>False</td>\n",
              "      <td>False</td>\n",
              "      <td>False</td>\n",
              "    </tr>\n",
              "    <tr>\n",
              "      <th>...</th>\n",
              "      <td>...</td>\n",
              "      <td>...</td>\n",
              "      <td>...</td>\n",
              "      <td>...</td>\n",
              "      <td>...</td>\n",
              "    </tr>\n",
              "    <tr>\n",
              "      <th>4617</th>\n",
              "      <td>False</td>\n",
              "      <td>False</td>\n",
              "      <td>False</td>\n",
              "      <td>False</td>\n",
              "      <td>False</td>\n",
              "    </tr>\n",
              "    <tr>\n",
              "      <th>4618</th>\n",
              "      <td>False</td>\n",
              "      <td>False</td>\n",
              "      <td>False</td>\n",
              "      <td>False</td>\n",
              "      <td>False</td>\n",
              "    </tr>\n",
              "    <tr>\n",
              "      <th>4619</th>\n",
              "      <td>False</td>\n",
              "      <td>False</td>\n",
              "      <td>False</td>\n",
              "      <td>False</td>\n",
              "      <td>False</td>\n",
              "    </tr>\n",
              "    <tr>\n",
              "      <th>4620</th>\n",
              "      <td>False</td>\n",
              "      <td>False</td>\n",
              "      <td>False</td>\n",
              "      <td>False</td>\n",
              "      <td>False</td>\n",
              "    </tr>\n",
              "    <tr>\n",
              "      <th>4621</th>\n",
              "      <td>False</td>\n",
              "      <td>False</td>\n",
              "      <td>False</td>\n",
              "      <td>False</td>\n",
              "      <td>False</td>\n",
              "    </tr>\n",
              "  </tbody>\n",
              "</table>\n",
              "<p>4622 rows × 5 columns</p>\n",
              "</div>\n",
              "      <button class=\"colab-df-convert\" onclick=\"convertToInteractive('df-6903c3aa-7574-461e-a5d8-2dcb492b2c22')\"\n",
              "              title=\"Convert this dataframe to an interactive table.\"\n",
              "              style=\"display:none;\">\n",
              "        \n",
              "  <svg xmlns=\"http://www.w3.org/2000/svg\" height=\"24px\"viewBox=\"0 0 24 24\"\n",
              "       width=\"24px\">\n",
              "    <path d=\"M0 0h24v24H0V0z\" fill=\"none\"/>\n",
              "    <path d=\"M18.56 5.44l.94 2.06.94-2.06 2.06-.94-2.06-.94-.94-2.06-.94 2.06-2.06.94zm-11 1L8.5 8.5l.94-2.06 2.06-.94-2.06-.94L8.5 2.5l-.94 2.06-2.06.94zm10 10l.94 2.06.94-2.06 2.06-.94-2.06-.94-.94-2.06-.94 2.06-2.06.94z\"/><path d=\"M17.41 7.96l-1.37-1.37c-.4-.4-.92-.59-1.43-.59-.52 0-1.04.2-1.43.59L10.3 9.45l-7.72 7.72c-.78.78-.78 2.05 0 2.83L4 21.41c.39.39.9.59 1.41.59.51 0 1.02-.2 1.41-.59l7.78-7.78 2.81-2.81c.8-.78.8-2.07 0-2.86zM5.41 20L4 18.59l7.72-7.72 1.47 1.35L5.41 20z\"/>\n",
              "  </svg>\n",
              "      </button>\n",
              "      \n",
              "  <style>\n",
              "    .colab-df-container {\n",
              "      display:flex;\n",
              "      flex-wrap:wrap;\n",
              "      gap: 12px;\n",
              "    }\n",
              "\n",
              "    .colab-df-convert {\n",
              "      background-color: #E8F0FE;\n",
              "      border: none;\n",
              "      border-radius: 50%;\n",
              "      cursor: pointer;\n",
              "      display: none;\n",
              "      fill: #1967D2;\n",
              "      height: 32px;\n",
              "      padding: 0 0 0 0;\n",
              "      width: 32px;\n",
              "    }\n",
              "\n",
              "    .colab-df-convert:hover {\n",
              "      background-color: #E2EBFA;\n",
              "      box-shadow: 0px 1px 2px rgba(60, 64, 67, 0.3), 0px 1px 3px 1px rgba(60, 64, 67, 0.15);\n",
              "      fill: #174EA6;\n",
              "    }\n",
              "\n",
              "    [theme=dark] .colab-df-convert {\n",
              "      background-color: #3B4455;\n",
              "      fill: #D2E3FC;\n",
              "    }\n",
              "\n",
              "    [theme=dark] .colab-df-convert:hover {\n",
              "      background-color: #434B5C;\n",
              "      box-shadow: 0px 1px 3px 1px rgba(0, 0, 0, 0.15);\n",
              "      filter: drop-shadow(0px 1px 2px rgba(0, 0, 0, 0.3));\n",
              "      fill: #FFFFFF;\n",
              "    }\n",
              "  </style>\n",
              "\n",
              "      <script>\n",
              "        const buttonEl =\n",
              "          document.querySelector('#df-6903c3aa-7574-461e-a5d8-2dcb492b2c22 button.colab-df-convert');\n",
              "        buttonEl.style.display =\n",
              "          google.colab.kernel.accessAllowed ? 'block' : 'none';\n",
              "\n",
              "        async function convertToInteractive(key) {\n",
              "          const element = document.querySelector('#df-6903c3aa-7574-461e-a5d8-2dcb492b2c22');\n",
              "          const dataTable =\n",
              "            await google.colab.kernel.invokeFunction('convertToInteractive',\n",
              "                                                     [key], {});\n",
              "          if (!dataTable) return;\n",
              "\n",
              "          const docLinkHtml = 'Like what you see? Visit the ' +\n",
              "            '<a target=\"_blank\" href=https://colab.research.google.com/notebooks/data_table.ipynb>data table notebook</a>'\n",
              "            + ' to learn more about interactive tables.';\n",
              "          element.innerHTML = '';\n",
              "          dataTable['output_type'] = 'display_data';\n",
              "          await google.colab.output.renderOutput(dataTable, element);\n",
              "          const docLink = document.createElement('div');\n",
              "          docLink.innerHTML = docLinkHtml;\n",
              "          element.appendChild(docLink);\n",
              "        }\n",
              "      </script>\n",
              "    </div>\n",
              "  </div>\n",
              "  "
            ]
          },
          "metadata": {},
          "execution_count": 9
        }
      ]
    },
    {
      "cell_type": "code",
      "source": [
        "#결측치 확인\n",
        "chipo.isnull().sum()"
      ],
      "metadata": {
        "id": "qNyT4JuPl5pN",
        "colab": {
          "base_uri": "https://localhost:8080/"
        },
        "outputId": "047a2e4c-0f9d-4ea4-968f-971e118c381f"
      },
      "execution_count": null,
      "outputs": [
        {
          "output_type": "execute_result",
          "data": {
            "text/plain": [
              "order_id                 0\n",
              "quantity                 0\n",
              "item_name                0\n",
              "choice_description    1246\n",
              "item_price               0\n",
              "dtype: int64"
            ]
          },
          "metadata": {},
          "execution_count": 8
        }
      ]
    },
    {
      "cell_type": "markdown",
      "source": [
        "##1.가장 많이 주문한 메뉴 Top10"
      ],
      "metadata": {
        "id": "utlY1CDjBSE1"
      }
    },
    {
      "cell_type": "code",
      "source": [
        "item_name_10 = chipo['item_name'].value_counts()[:10]\n",
        "print(item_name_10)"
      ],
      "metadata": {
        "colab": {
          "base_uri": "https://localhost:8080/"
        },
        "id": "-v2xjimuBVEf",
        "outputId": "41104f88-3082-4901-88f8-b1d856c2d5f9"
      },
      "execution_count": null,
      "outputs": [
        {
          "output_type": "stream",
          "name": "stdout",
          "text": [
            "Chicken Bowl                    726\n",
            "Chicken Burrito                 553\n",
            "Chips and Guacamole             479\n",
            "Steak Burrito                   368\n",
            "Canned Soft Drink               301\n",
            "Steak Bowl                      211\n",
            "Chips                           211\n",
            "Bottled Water                   162\n",
            "Chicken Soft Tacos              115\n",
            "Chips and Fresh Tomato Salsa    110\n",
            "Name: item_name, dtype: int64\n"
          ]
        }
      ]
    },
    {
      "cell_type": "markdown",
      "source": [],
      "metadata": {
        "id": "fFvZPOPeEC-D"
      }
    },
    {
      "cell_type": "markdown",
      "source": [
        "value : 수량 /\n",
        "item : 상품명"
      ],
      "metadata": {
        "id": "HKnkEHncEKRR"
      }
    },
    {
      "cell_type": "code",
      "source": [
        "for idx, (item, value) in enumerate(item_name_10.items(),1):\n",
        "    print(\"{}:{} - {} \".format(idx,item,value))"
      ],
      "metadata": {
        "colab": {
          "base_uri": "https://localhost:8080/"
        },
        "id": "i-CWO05NB28a",
        "outputId": "4aab9436-52f8-4c22-a4ea-f4dfa30a1f10"
      },
      "execution_count": null,
      "outputs": [
        {
          "output_type": "stream",
          "name": "stdout",
          "text": [
            "1: Chicken Bowl - 726 \n",
            "2: Chicken Burrito - 553 \n",
            "3: Chips and Guacamole - 479 \n",
            "4: Steak Burrito - 368 \n",
            "5: Canned Soft Drink - 301 \n",
            "6: Steak Bowl - 211 \n",
            "7: Chips - 211 \n",
            "8: Bottled Water - 162 \n",
            "9: Chicken Soft Tacos - 115 \n",
            "10: Chips and Fresh Tomato Salsa - 110 \n"
          ]
        }
      ]
    },
    {
      "cell_type": "code",
      "source": [
        "#hist(막대그래프)그리기\n",
        "#hist(list명)\n",
        "item_name = chipo['item_name'].value_counts()\n",
        "plt.hist(item_name,bins = 25)\n",
        "plt.xlabel(\"item_name\")\n",
        "plt.ylabel(\"itemcount\")\n",
        "plt.show()"
      ],
      "metadata": {
        "colab": {
          "base_uri": "https://localhost:8080/",
          "height": 280
        },
        "id": "FcDrbw97FRwN",
        "outputId": "6473c361-840a-494e-d93d-c01f4df9c8b8"
      },
      "execution_count": null,
      "outputs": [
        {
          "output_type": "display_data",
          "data": {
            "text/plain": [
              "<Figure size 432x288 with 1 Axes>"
            ],
            "image/png": "[encoded data removed]"
          },
          "metadata": {
            "needs_background": "light"
          }
        }
      ]
    },
    {
      "cell_type": "markdown",
      "source": [
        "## 2. 아이템(item_name) 별 주문수량(quantity) 분석\n",
        "- 아이템별 주문수량 및 총량\n",
        "- 시각화 하기\n"
      ],
      "metadata": {
        "id": "qpM97HfCGtjr"
      }
    },
    {
      "cell_type": "code",
      "source": [
        "item_quantity = chipo.groupby('item_name')['quantity'].count()\n",
        "item_quantity"
      ],
      "metadata": {
        "colab": {
          "base_uri": "https://localhost:8080/"
        },
        "id": "CHZSIP-sGnS-",
        "outputId": "72526546-9fa4-4391-8e67-d0b8c0ba9b63"
      },
      "execution_count": null,
      "outputs": [
        {
          "output_type": "execute_result",
          "data": {
            "text/plain": [
              "item_name\n",
              "6 Pack Soft Drink                         54\n",
              "Barbacoa Bowl                             66\n",
              "Barbacoa Burrito                          91\n",
              "Barbacoa Crispy Tacos                     11\n",
              "Barbacoa Salad Bowl                       10\n",
              "Barbacoa Soft Tacos                       25\n",
              "Bottled Water                            162\n",
              "Bowl                                       2\n",
              "Burrito                                    6\n",
              "Canned Soda                              104\n",
              "Canned Soft Drink                        301\n",
              "Carnitas Bowl                             68\n",
              "Carnitas Burrito                          59\n",
              "Carnitas Crispy Tacos                      7\n",
              "Carnitas Salad                             1\n",
              "Carnitas Salad Bowl                        6\n",
              "Carnitas Soft Tacos                       40\n",
              "Chicken Bowl                             726\n",
              "Chicken Burrito                          553\n",
              "Chicken Crispy Tacos                      47\n",
              "Chicken Salad                              9\n",
              "Chicken Salad Bowl                       110\n",
              "Chicken Soft Tacos                       115\n",
              "Chips                                    211\n",
              "Chips and Fresh Tomato Salsa             110\n",
              "Chips and Guacamole                      479\n",
              "Chips and Mild Fresh Tomato Salsa          1\n",
              "Chips and Roasted Chili Corn Salsa        22\n",
              "Chips and Roasted Chili-Corn Salsa        18\n",
              "Chips and Tomatillo Green Chili Salsa     43\n",
              "Chips and Tomatillo Red Chili Salsa       48\n",
              "Chips and Tomatillo-Green Chili Salsa     31\n",
              "Chips and Tomatillo-Red Chili Salsa       20\n",
              "Crispy Tacos                               2\n",
              "Izze                                      20\n",
              "Nantucket Nectar                          27\n",
              "Salad                                      2\n",
              "Side of Chips                            101\n",
              "Steak Bowl                               211\n",
              "Steak Burrito                            368\n",
              "Steak Crispy Tacos                        35\n",
              "Steak Salad                                4\n",
              "Steak Salad Bowl                          29\n",
              "Steak Soft Tacos                          55\n",
              "Veggie Bowl                               85\n",
              "Veggie Burrito                            95\n",
              "Veggie Crispy Tacos                        1\n",
              "Veggie Salad                               6\n",
              "Veggie Salad Bowl                         18\n",
              "Veggie Soft Tacos                          7\n",
              "Name: quantity, dtype: int64"
            ]
          },
          "metadata": {},
          "execution_count": 25
        }
      ]
    },
    {
      "cell_type": "code",
      "source": [
        "item_quantity.index"
      ],
      "metadata": {
        "colab": {
          "base_uri": "https://localhost:8080/"
        },
        "id": "5zUo7oXmH52B",
        "outputId": "2427a68d-c1ce-40bb-8ebf-75b0b4510e46"
      },
      "execution_count": null,
      "outputs": [
        {
          "output_type": "execute_result",
          "data": {
            "text/plain": [
              "Index(['6 Pack Soft Drink', 'Barbacoa Bowl', 'Barbacoa Burrito',\n",
              "       'Barbacoa Crispy Tacos', 'Barbacoa Salad Bowl', 'Barbacoa Soft Tacos',\n",
              "       'Bottled Water', 'Bowl', 'Burrito', 'Canned Soda', 'Canned Soft Drink',\n",
              "       'Carnitas Bowl', 'Carnitas Burrito', 'Carnitas Crispy Tacos',\n",
              "       'Carnitas Salad', 'Carnitas Salad Bowl', 'Carnitas Soft Tacos',\n",
              "       'Chicken Bowl', 'Chicken Burrito', 'Chicken Crispy Tacos',\n",
              "       'Chicken Salad', 'Chicken Salad Bowl', 'Chicken Soft Tacos', 'Chips',\n",
              "       'Chips and Fresh Tomato Salsa', 'Chips and Guacamole',\n",
              "       'Chips and Mild Fresh Tomato Salsa',\n",
              "       'Chips and Roasted Chili Corn Salsa',\n",
              "       'Chips and Roasted Chili-Corn Salsa',\n",
              "       'Chips and Tomatillo Green Chili Salsa',\n",
              "       'Chips and Tomatillo Red Chili Salsa',\n",
              "       'Chips and Tomatillo-Green Chili Salsa',\n",
              "       'Chips and Tomatillo-Red Chili Salsa', 'Crispy Tacos', 'Izze',\n",
              "       'Nantucket Nectar', 'Salad', 'Side of Chips', 'Steak Bowl',\n",
              "       'Steak Burrito', 'Steak Crispy Tacos', 'Steak Salad',\n",
              "       'Steak Salad Bowl', 'Steak Soft Tacos', 'Veggie Bowl', 'Veggie Burrito',\n",
              "       'Veggie Crispy Tacos', 'Veggie Salad', 'Veggie Salad Bowl',\n",
              "       'Veggie Soft Tacos'],\n",
              "      dtype='object', name='item_name')"
            ]
          },
          "metadata": {},
          "execution_count": 26
        }
      ]
    },
    {
      "cell_type": "code",
      "source": [
        "item_quantity.values"
      ],
      "metadata": {
        "colab": {
          "base_uri": "https://localhost:8080/"
        },
        "id": "jILEtUEOH-Rc",
        "outputId": "348a2678-a139-4c64-f621-be3efad372e1"
      },
      "execution_count": null,
      "outputs": [
        {
          "output_type": "execute_result",
          "data": {
            "text/plain": [
              "array([ 54,  66,  91,  11,  10,  25, 162,   2,   6, 104, 301,  68,  59,\n",
              "         7,   1,   6,  40, 726, 553,  47,   9, 110, 115, 211, 110, 479,\n",
              "         1,  22,  18,  43,  48,  31,  20,   2,  20,  27,   2, 101, 211,\n",
              "       368,  35,   4,  29,  55,  85,  95,   1,   6,  18,   7])"
            ]
          },
          "metadata": {},
          "execution_count": 28
        }
      ]
    },
    {
      "cell_type": "markdown",
      "source": [
        "index : x축 / value : y축"
      ],
      "metadata": {
        "id": "DJuJPbIgIMDZ"
      }
    },
    {
      "cell_type": "code",
      "source": [
        "#x축\n",
        "item_quantity_index = item_quantity.index.tolist()\n",
        "x=np.arange(len(item_quantity_index))\n",
        "x"
      ],
      "metadata": {
        "colab": {
          "base_uri": "https://localhost:8080/"
        },
        "id": "pjZ_5RlcIYDX",
        "outputId": "94fa3677-1357-455f-f48b-7ac3f5b998ca"
      },
      "execution_count": null,
      "outputs": [
        {
          "output_type": "execute_result",
          "data": {
            "text/plain": [
              "array([ 0,  1,  2,  3,  4,  5,  6,  7,  8,  9, 10, 11, 12, 13, 14, 15, 16,\n",
              "       17, 18, 19, 20, 21, 22, 23, 24, 25, 26, 27, 28, 29, 30, 31, 32, 33,\n",
              "       34, 35, 36, 37, 38, 39, 40, 41, 42, 43, 44, 45, 46, 47, 48, 49])"
            ]
          },
          "metadata": {},
          "execution_count": 29
        }
      ]
    },
    {
      "cell_type": "code",
      "source": [
        "len(item_quantity_index)"
      ],
      "metadata": {
        "colab": {
          "base_uri": "https://localhost:8080/"
        },
        "id": "XlAUC_fPI7d5",
        "outputId": "1b83c6d9-f569-4aac-b35b-f0dcd3572791"
      },
      "execution_count": null,
      "outputs": [
        {
          "output_type": "execute_result",
          "data": {
            "text/plain": [
              "50"
            ]
          },
          "metadata": {},
          "execution_count": 30
        }
      ]
    },
    {
      "cell_type": "code",
      "source": [
        "#y축\n",
        "orderd_count = item_quantity.values.tolist()\n",
        "print(orderd_count)"
      ],
      "metadata": {
        "colab": {
          "base_uri": "https://localhost:8080/"
        },
        "id": "oEF_vkgKJNdW",
        "outputId": "d10ff4cf-8572-45f1-cca7-73e7a626df0b"
      },
      "execution_count": null,
      "outputs": [
        {
          "output_type": "stream",
          "name": "stdout",
          "text": [
            "[54, 66, 91, 11, 10, 25, 162, 2, 6, 104, 301, 68, 59, 7, 1, 6, 40, 726, 553, 47, 9, 110, 115, 211, 110, 479, 1, 22, 18, 43, 48, 31, 20, 2, 20, 27, 2, 101, 211, 368, 35, 4, 29, 55, 85, 95, 1, 6, 18, 7]\n"
          ]
        }
      ]
    },
    {
      "cell_type": "code",
      "source": [
        "#bar(x,y)\n",
        "plt.bar(x,orderd_count)\n",
        "plt.xlabel(\"item_idx\")\n",
        "plt.ylabel(\"orderd_count\")\n",
        "plt.title(\"Distribution of all Ordered item\")\n",
        "plt.show()"
      ],
      "metadata": {
        "colab": {
          "base_uri": "https://localhost:8080/",
          "height": 296
        },
        "id": "UdIhx1ogJnV-",
        "outputId": "4e9d2f57-a986-48b5-e3e6-a5425bed362b"
      },
      "execution_count": null,
      "outputs": [
        {
          "output_type": "display_data",
          "data": {
            "text/plain": [
              "<Figure size 432x288 with 1 Axes>"
            ],
            "image/png": "[encoded data removed]"
          },
          "metadata": {
            "needs_background": "light"
          }
        }
      ]
    },
    {
      "cell_type": "markdown",
      "source": [
        "## 3. 주문당 평균 금액\n",
        "- 10달러 이상 주문한 주문번호\n",
        "- 아이템별 주문금액 분포도"
      ],
      "metadata": {
        "id": "F03_8sFJKk5u"
      }
    },
    {
      "cell_type": "code",
      "source": [
        "chipo.head()"
      ],
      "metadata": {
        "colab": {
          "base_uri": "https://localhost:8080/",
          "height": 320
        },
        "id": "5m-4C95RLddt",
        "outputId": "c5b1eb16-1d1f-4154-bc16-79e13233c60d"
      },
      "execution_count": null,
      "outputs": [
        {
          "output_type": "execute_result",
          "data": {
            "text/plain": [
              "   order_id  quantity                              item_name  \\\n",
              "0         1         1           Chips and Fresh Tomato Salsa   \n",
              "1         1         1                                   Izze   \n",
              "2         1         1                       Nantucket Nectar   \n",
              "3         1         1  Chips and Tomatillo-Green Chili Salsa   \n",
              "4         2         2                           Chicken Bowl   \n",
              "\n",
              "                                  choice_description item_price  \n",
              "0                                                NaN     $2.39   \n",
              "1                                       [Clementine]     $3.39   \n",
              "2                                            [Apple]     $3.39   \n",
              "3                                                NaN     $2.39   \n",
              "4  [Tomatillo-Red Chili Salsa (Hot), [Black Beans...    $16.98   "
            ],
            "text/html": [
              "\n",
              "  <div id=\"df-295c97e7-b839-461d-994c-4a9199c168e8\">\n",
              "    <div class=\"colab-df-container\">\n",
              "      <div>\n",
              "<style scoped>\n",
              "    .dataframe tbody tr th:only-of-type {\n",
              "        vertical-align: middle;\n",
              "    }\n",
              "\n",
              "    .dataframe tbody tr th {\n",
              "        vertical-align: top;\n",
              "    }\n",
              "\n",
              "    .dataframe thead th {\n",
              "        text-align: right;\n",
              "    }\n",
              "</style>\n",
              "<table border=\"1\" class=\"dataframe\">\n",
              "  <thead>\n",
              "    <tr style=\"text-align: right;\">\n",
              "      <th></th>\n",
              "      <th>order_id</th>\n",
              "      <th>quantity</th>\n",
              "      <th>item_name</th>\n",
              "      <th>choice_description</th>\n",
              "      <th>item_price</th>\n",
              "    </tr>\n",
              "  </thead>\n",
              "  <tbody>\n",
              "    <tr>\n",
              "      <th>0</th>\n",
              "      <td>1</td>\n",
              "      <td>1</td>\n",
              "      <td>Chips and Fresh Tomato Salsa</td>\n",
              "      <td>NaN</td>\n",
              "      <td>$2.39</td>\n",
              "    </tr>\n",
              "    <tr>\n",
              "      <th>1</th>\n",
              "      <td>1</td>\n",
              "      <td>1</td>\n",
              "      <td>Izze</td>\n",
              "      <td>[Clementine]</td>\n",
              "      <td>$3.39</td>\n",
              "    </tr>\n",
              "    <tr>\n",
              "      <th>2</th>\n",
              "      <td>1</td>\n",
              "      <td>1</td>\n",
              "      <td>Nantucket Nectar</td>\n",
              "      <td>[Apple]</td>\n",
              "      <td>$3.39</td>\n",
              "    </tr>\n",
              "    <tr>\n",
              "      <th>3</th>\n",
              "      <td>1</td>\n",
              "      <td>1</td>\n",
              "      <td>Chips and Tomatillo-Green Chili Salsa</td>\n",
              "      <td>NaN</td>\n",
              "      <td>$2.39</td>\n",
              "    </tr>\n",
              "    <tr>\n",
              "      <th>4</th>\n",
              "      <td>2</td>\n",
              "      <td>2</td>\n",
              "      <td>Chicken Bowl</td>\n",
              "      <td>[Tomatillo-Red Chili Salsa (Hot), [Black Beans...</td>\n",
              "      <td>$16.98</td>\n",
              "    </tr>\n",
              "  </tbody>\n",
              "</table>\n",
              "</div>\n",
              "      <button class=\"colab-df-convert\" onclick=\"convertToInteractive('df-295c97e7-b839-461d-994c-4a9199c168e8')\"\n",
              "              title=\"Convert this dataframe to an interactive table.\"\n",
              "              style=\"display:none;\">\n",
              "        \n",
              "  <svg xmlns=\"http://www.w3.org/2000/svg\" height=\"24px\"viewBox=\"0 0 24 24\"\n",
              "       width=\"24px\">\n",
              "    <path d=\"M0 0h24v24H0V0z\" fill=\"none\"/>\n",
              "    <path d=\"M18.56 5.44l.94 2.06.94-2.06 2.06-.94-2.06-.94-.94-2.06-.94 2.06-2.06.94zm-11 1L8.5 8.5l.94-2.06 2.06-.94-2.06-.94L8.5 2.5l-.94 2.06-2.06.94zm10 10l.94 2.06.94-2.06 2.06-.94-2.06-.94-.94-2.06-.94 2.06-2.06.94z\"/><path d=\"M17.41 7.96l-1.37-1.37c-.4-.4-.92-.59-1.43-.59-.52 0-1.04.2-1.43.59L10.3 9.45l-7.72 7.72c-.78.78-.78 2.05 0 2.83L4 21.41c.39.39.9.59 1.41.59.51 0 1.02-.2 1.41-.59l7.78-7.78 2.81-2.81c.8-.78.8-2.07 0-2.86zM5.41 20L4 18.59l7.72-7.72 1.47 1.35L5.41 20z\"/>\n",
              "  </svg>\n",
              "      </button>\n",
              "      \n",
              "  <style>\n",
              "    .colab-df-container {\n",
              "      display:flex;\n",
              "      flex-wrap:wrap;\n",
              "      gap: 12px;\n",
              "    }\n",
              "\n",
              "    .colab-df-convert {\n",
              "      background-color: #E8F0FE;\n",
              "      border: none;\n",
              "      border-radius: 50%;\n",
              "      cursor: pointer;\n",
              "      display: none;\n",
              "      fill: #1967D2;\n",
              "      height: 32px;\n",
              "      padding: 0 0 0 0;\n",
              "      width: 32px;\n",
              "    }\n",
              "\n",
              "    .colab-df-convert:hover {\n",
              "      background-color: #E2EBFA;\n",
              "      box-shadow: 0px 1px 2px rgba(60, 64, 67, 0.3), 0px 1px 3px 1px rgba(60, 64, 67, 0.15);\n",
              "      fill: #174EA6;\n",
              "    }\n",
              "\n",
              "    [theme=dark] .colab-df-convert {\n",
              "      background-color: #3B4455;\n",
              "      fill: #D2E3FC;\n",
              "    }\n",
              "\n",
              "    [theme=dark] .colab-df-convert:hover {\n",
              "      background-color: #434B5C;\n",
              "      box-shadow: 0px 1px 3px 1px rgba(0, 0, 0, 0.15);\n",
              "      filter: drop-shadow(0px 1px 2px rgba(0, 0, 0, 0.3));\n",
              "      fill: #FFFFFF;\n",
              "    }\n",
              "  </style>\n",
              "\n",
              "      <script>\n",
              "        const buttonEl =\n",
              "          document.querySelector('#df-295c97e7-b839-461d-994c-4a9199c168e8 button.colab-df-convert');\n",
              "        buttonEl.style.display =\n",
              "          google.colab.kernel.accessAllowed ? 'block' : 'none';\n",
              "\n",
              "        async function convertToInteractive(key) {\n",
              "          const element = document.querySelector('#df-295c97e7-b839-461d-994c-4a9199c168e8');\n",
              "          const dataTable =\n",
              "            await google.colab.kernel.invokeFunction('convertToInteractive',\n",
              "                                                     [key], {});\n",
              "          if (!dataTable) return;\n",
              "\n",
              "          const docLinkHtml = 'Like what you see? Visit the ' +\n",
              "            '<a target=\"_blank\" href=https://colab.research.google.com/notebooks/data_table.ipynb>data table notebook</a>'\n",
              "            + ' to learn more about interactive tables.';\n",
              "          element.innerHTML = '';\n",
              "          dataTable['output_type'] = 'display_data';\n",
              "          await google.colab.output.renderOutput(dataTable, element);\n",
              "          const docLink = document.createElement('div');\n",
              "          docLink.innerHTML = docLinkHtml;\n",
              "          element.appendChild(docLink);\n",
              "        }\n",
              "      </script>\n",
              "    </div>\n",
              "  </div>\n",
              "  "
            ]
          },
          "metadata": {},
          "execution_count": 36
        }
      ]
    },
    {
      "cell_type": "code",
      "source": [
        "chipo.info()\n",
        "##item_price가 object로 나오는걸 평균 계산을 위해 수치형으로 변환"
      ],
      "metadata": {
        "colab": {
          "base_uri": "https://localhost:8080/"
        },
        "id": "VeqM88LnLxVT",
        "outputId": "66890301-9de8-4729-85cd-a622f5c01598"
      },
      "execution_count": null,
      "outputs": [
        {
          "output_type": "stream",
          "name": "stdout",
          "text": [
            "<class 'pandas.core.frame.DataFrame'>\n",
            "RangeIndex: 4622 entries, 0 to 4621\n",
            "Data columns (total 5 columns):\n",
            " #   Column              Non-Null Count  Dtype \n",
            "---  ------              --------------  ----- \n",
            " 0   order_id            4622 non-null   int64 \n",
            " 1   quantity            4622 non-null   int64 \n",
            " 2   item_name           4622 non-null   object\n",
            " 3   choice_description  3376 non-null   object\n",
            " 4   item_price          4622 non-null   object\n",
            "dtypes: int64(2), object(3)\n",
            "memory usage: 180.7+ KB\n"
          ]
        }
      ]
    },
    {
      "cell_type": "code",
      "source": [
        "a = chipo['item_price']\n",
        "chipo['item_price']=chipo['item_price'].apply(lambda a : float(a[1:]))"
      ],
      "metadata": {
        "id": "HCQt_1s7MODe"
      },
      "execution_count": null,
      "outputs": []
    },
    {
      "cell_type": "code",
      "source": [
        "#float 으로 변환됨\n",
        "chipo.info()"
      ],
      "metadata": {
        "colab": {
          "base_uri": "https://localhost:8080/"
        },
        "id": "WCJHP9k-M2yK",
        "outputId": "1e97815d-5fa0-4811-b594-957b5c0e273c"
      },
      "execution_count": null,
      "outputs": [
        {
          "output_type": "stream",
          "name": "stdout",
          "text": [
            "<class 'pandas.core.frame.DataFrame'>\n",
            "RangeIndex: 4622 entries, 0 to 4621\n",
            "Data columns (total 5 columns):\n",
            " #   Column              Non-Null Count  Dtype  \n",
            "---  ------              --------------  -----  \n",
            " 0   order_id            4622 non-null   int64  \n",
            " 1   quantity            4622 non-null   int64  \n",
            " 2   item_name           4622 non-null   object \n",
            " 3   choice_description  3376 non-null   object \n",
            " 4   item_price          4622 non-null   float64\n",
            "dtypes: float64(1), int64(2), object(2)\n",
            "memory usage: 180.7+ KB\n"
          ]
        }
      ]
    },
    {
      "cell_type": "code",
      "source": [
        "##주문번호당 평균 금액 계산하기\n",
        "chipo.groupby('order_id')['item_price'].sum()\n",
        "#object 라서 합쳐지지않고 $11.75 $11.25 출력"
      ],
      "metadata": {
        "colab": {
          "base_uri": "https://localhost:8080/"
        },
        "id": "-adfhwUcKhMT",
        "outputId": "7c721346-2f0d-4417-dec4-3d56b464f3e7"
      },
      "execution_count": null,
      "outputs": [
        {
          "output_type": "execute_result",
          "data": {
            "text/plain": [
              "order_id\n",
              "1       11.56\n",
              "2       16.98\n",
              "3       12.67\n",
              "4       21.00\n",
              "5       13.70\n",
              "        ...  \n",
              "1830    23.00\n",
              "1831    12.90\n",
              "1832    13.20\n",
              "1833    23.50\n",
              "1834    28.75\n",
              "Name: item_price, Length: 1834, dtype: float64"
            ]
          },
          "metadata": {},
          "execution_count": 7
        }
      ]
    },
    {
      "cell_type": "code",
      "source": [
        "#float으로 변환된 값\n",
        "item_price =chipo.groupby('order_id')['item_price'].sum()\n",
        "item_price\n",
        "#item_price를 그룹에 저장"
      ],
      "metadata": {
        "colab": {
          "base_uri": "https://localhost:8080/"
        },
        "id": "-yrp5DpPNYqi",
        "outputId": "c66457a8-a9b9-4774-96f6-8892106976d8"
      },
      "execution_count": null,
      "outputs": [
        {
          "output_type": "execute_result",
          "data": {
            "text/plain": [
              "order_id\n",
              "1       11.56\n",
              "2       16.98\n",
              "3       12.67\n",
              "4       21.00\n",
              "5       13.70\n",
              "        ...  \n",
              "1830    23.00\n",
              "1831    12.90\n",
              "1832    13.20\n",
              "1833    23.50\n",
              "1834    28.75\n",
              "Name: item_price, Length: 1834, dtype: float64"
            ]
          },
          "metadata": {},
          "execution_count": 8
        }
      ]
    },
    {
      "cell_type": "code",
      "source": [
        "chipo.groupby('order_id')['item_price'].sum().mean()"
      ],
      "metadata": {
        "colab": {
          "base_uri": "https://localhost:8080/"
        },
        "id": "fC9JDrPvNe24",
        "outputId": "905055b3-41a3-40da-c950-f4e091ecf0dc"
      },
      "execution_count": null,
      "outputs": [
        {
          "output_type": "execute_result",
          "data": {
            "text/plain": [
              "18.811428571428568"
            ]
          },
          "metadata": {},
          "execution_count": 9
        }
      ]
    },
    {
      "cell_type": "code",
      "source": [
        "# x축 : order_id / y축 : item_price\n",
        "item_price.index\n",
        "#item_price.index 출력후\n",
        "item_price_index = item_price.index.tolist()\n",
        "#item_price_index 를 .tolist 에 저장하고, item_price_index 저장"
      ],
      "metadata": {
        "id": "sqvtjy2kN0Ng"
      },
      "execution_count": null,
      "outputs": []
    },
    {
      "cell_type": "code",
      "source": [
        "x = np.arange(len(item_price_index))\n",
        "x"
      ],
      "metadata": {
        "colab": {
          "base_uri": "https://localhost:8080/"
        },
        "id": "9AQWqHDOPAnD",
        "outputId": "1d139ba6-d5c1-49a4-e20e-71c86bfd5e2e"
      },
      "execution_count": null,
      "outputs": [
        {
          "output_type": "execute_result",
          "data": {
            "text/plain": [
              "array([   0,    1,    2, ..., 1831, 1832, 1833])"
            ]
          },
          "metadata": {},
          "execution_count": 11
        }
      ]
    },
    {
      "cell_type": "code",
      "source": [
        "#y축\n",
        "item_price.values.tolist()\n",
        "item_price_values=item_price.values.tolist()\n",
        "item_price.values\n",
        "print(item_price_values)"
      ],
      "metadata": {
        "colab": {
          "base_uri": "https://localhost:8080/"
        },
        "id": "Yy0EC1AHmClg",
        "outputId": "ca21c6a7-1fef-483a-e531-8af615cdfd9b"
      },
      "execution_count": null,
      "outputs": [
        {
          "output_type": "stream",
          "name": "stdout",
          "text": [
            "[11.56, 16.98, 12.67, 21.0, 13.7, 17.5, 15.7, 10.88, 10.67, 13.2, 12.38, 14.370000000000001, 10.88, 10.08, 10.88, 10.68, 10.08, 24.9, 13.9, 36.2, 23.36, 12.98, 11.17, 12.07, 11.38, 20.5, 13.9, 33.7, 17.98, 23.36, 10.68, 12.98, 13.2, 28.4, 13.4, 18.0, 18.0, 18.57, 12.2, 32.75, 16.2, 13.7, 20.5, 13.2, 21.97, 11.88, 10.08, 13.7, 16.15, 10.88, 18.57, 12.98, 22.45, 15.7, 10.08, 16.65, 16.2, 10.88, 10.98, 22.5, 16.2, 15.7, 15.7, 22.5, 25.45, 11.48, 19.67, 21.95, 10.88, 21.95, 27.45, 10.98, 21.650000000000002, 22.36, 36.2, 10.67, 11.88, 17.48, 10.98, 11.48, 10.67, 20.95, 24.95, 28.46, 11.38, 22.95, 10.08, 10.88, 16.060000000000002, 20.0, 11.88, 20.15, 38.2, 22.5, 16.2, 35.0, 20.15, 22.3, 13.4, 10.08, 12.98, 14.65, 47.9, 12.2, 17.5, 18.0, 10.98, 21.25, 12.07, 36.0, 17.5, 17.98, 10.08, 13.0, 11.38, 12.2, 12.98, 10.88, 16.98, 10.18, 12.48, 11.77, 23.78, 28.4, 31.7, 20.0, 12.5, 24.95, 29.990000000000002, 11.38, 10.88, 22.15, 10.68, 22.15, 13.2, 17.48, 17.5, 10.67, 12.15, 11.08, 16.98, 11.38, 12.4, 13.4, 16.98, 21.0, 13.0, 30.94, 30.4, 13.06, 10.67, 22.16, 17.5, 18.19, 15.77, 17.48, 13.4, 14.2, 12.5, 10.08, 17.5, 12.2, 13.25, 10.08, 13.75, 25.15, 10.68, 18.240000000000002, 18.0, 16.95, 15.7, 17.48, 17.48, 12.5, 13.0, 25.45, 13.4, 32.94, 12.5, 14.26, 17.5, 20.19, 18.0, 31.85, 17.5, 37.33, 10.68, 10.08, 14.370000000000001, 10.08, 18.0, 27.9, 22.2, 17.48, 81.0, 24.2, 10.18, 23.0, 21.95, 12.48, 12.48, 14.26, 12.75, 12.27, 109.9, 29.95, 24.95, 12.48, 18.5, 20.5, 23.0, 26.0, 17.48, 14.8, 25.349999999999998, 13.2, 22.200000000000003, 12.98, 10.68, 17.5, 17.5, 25.45, 27.25, 12.48, 25.7, 22.45, 24.45, 10.98, 22.16, 38.19, 45.1, 12.2, 29.75, 31.2, 35.25, 18.5, 26.150000000000002, 21.0, 13.4, 22.45, 10.98, 20.5, 22.5, 13.7, 11.48, 10.18, 32.25, 16.2, 13.2, 21.28, 12.95, 18.0, 23.78, 23.55, 12.48, 12.07, 13.2, 27.9, 18.0, 12.48, 22.5, 12.5, 17.5, 24.990000000000002, 21.95, 12.48, 10.08, 10.88, 13.17, 13.25, 20.45, 13.2, 20.5, 10.18, 12.48, 30.96, 16.95, 14.97, 21.8, 12.48, 13.7, 25.5, 13.4, 31.2, 11.38, 14.45, 19.66, 11.76, 12.95, 12.75, 13.45, 12.48, 11.48, 12.48, 12.5, 10.68, 12.5, 15.24, 20.95, 20.5, 19.669999999999998, 12.48, 17.5, 35.5, 21.75, 18.240000000000002, 12.48, 13.4, 23.14, 10.68, 30.96, 20.65, 14.8, 17.5, 13.7, 12.5, 24.25, 12.48, 25.97, 12.15, 10.67, 12.95, 12.65, 12.5, 15.7, 35.15, 22.5, 14.97, 14.97, 10.68, 18.0, 10.08, 12.2, 18.0, 12.48, 17.5, 22.5, 28.32, 11.08, 13.2, 11.08, 12.48, 54.05, 25.97, 16.15, 30.2, 15.7, 16.98, 10.88, 15.0, 13.7, 22.95, 18.0, 18.0, 18.5, 20.47, 22.5, 24.25, 12.15, 21.25, 12.75, 22.5, 24.64, 13.2, 12.5, 26.75, 23.5, 16.98, 23.96, 13.2, 10.68, 20.5, 15.7, 13.0, 14.7, 20.16, 26.97, 10.18, 38.95, 24.15, 20.37, 12.58, 13.2, 30.9, 10.18, 16.98, 33.5, 10.08, 35.8, 12.48, 12.98, 11.27, 10.08, 18.0, 11.38, 25.0, 18.5, 12.75, 12.48, 31.75, 17.5, 35.15, 11.38, 22.65, 12.5, 13.0, 23.0, 23.75, 19.47, 18.75, 16.98, 16.2, 24.25, 10.88, 13.7, 18.0, 10.68, 17.5, 20.37, 15.7, 13.2, 15.74, 19.47, 11.27, 13.7, 12.95, 12.48, 25.65, 11.48, 12.15, 14.65, 23.990000000000002, 10.68, 20.5, 12.07, 11.88, 12.15, 22.46, 19.47, 21.45, 16.2, 11.48, 24.45, 10.68, 14.7, 13.9, 11.38, 12.95, 12.15, 15.84, 23.45, 13.0, 10.58, 11.38, 16.2, 22.5, 26.25, 17.5, 22.5, 22.45, 13.0, 25.45, 10.68, 15.7, 15.24, 22.45, 27.95, 28.09, 15.7, 13.2, 24.15, 19.97, 13.7, 11.48, 21.45, 17.48, 17.48, 28.04, 20.46, 12.15, 35.39, 23.2, 22.96, 11.17, 24.44, 13.2, 20.5, 50.9, 16.98, 10.68, 102.0, 10.98, 15.7, 19.47, 12.38, 17.55, 21.95, 26.95, 13.7, 12.15, 14.84, 13.0, 15.7, 22.96, 12.2, 20.95, 25.5, 11.38, 25.0, 12.48, 104.59, 10.98, 20.37, 20.15, 13.2, 10.18, 16.88, 10.98, 26.950000000000003, 19.689999999999998, 17.5, 14.95, 10.18, 13.7, 10.08, 14.2, 26.05, 10.98, 31.25, 22.3, 12.48, 10.68, 10.18, 34.89, 24.4, 13.2, 13.2, 10.98, 19.97, 13.7, 23.64, 17.48, 18.0, 17.5, 27.95, 25.5, 10.68, 13.9, 28.15, 12.2, 20.0, 31.9, 16.560000000000002, 12.2, 19.17, 10.98, 14.2, 10.68, 12.15, 23.45, 52.45, 22.96, 19.65, 13.0, 18.5, 18.240000000000002, 18.07, 10.98, 12.15, 12.75, 22.5, 16.98, 13.0, 13.4, 18.8, 46.53, 71.15, 22.5, 12.57, 16.98, 17.5, 12.75, 18.0, 12.48, 26.25, 17.5, 13.25, 25.45, 19.97, 22.45, 11.97, 17.5, 11.48, 17.48, 10.88, 23.46, 16.2, 12.15, 19.97, 12.75, 12.15, 26.75, 12.75, 14.45, 10.98, 12.95, 12.95, 19.37, 12.5, 17.5, 18.0, 13.14, 12.15, 10.08, 13.2, 26.25, 13.2, 14.7, 17.5, 20.5, 22.5, 16.95, 34.46, 17.76, 13.2, 12.65, 23.0, 39.8, 18.75, 13.4, 14.65, 13.0, 13.0, 14.45, 48.45, 20.45, 29.29, 17.4, 12.15, 14.7, 12.38, 18.5, 20.45, 13.39, 14.2, 20.5, 14.2, 22.3, 41.8, 12.15, 23.76, 24.35, 23.0, 38.9, 15.2, 14.770000000000001, 13.4, 23.0, 16.2, 16.2, 18.0, 17.48, 17.48, 20.5, 12.48, 14.97, 25.97, 16.98, 13.4, 29.2, 16.98, 12.07, 13.4, 12.95, 18.5, 12.2, 12.15, 12.98, 13.9, 12.38, 18.0, 26.95, 12.15, 16.2, 12.2, 16.98, 24.45, 49.45, 10.18, 11.88, 118.25, 21.96, 12.67, 20.47, 10.18, 12.9, 12.75, 20.45, 10.18, 12.95, 13.4, 11.08, 25.47, 13.0, 20.5, 21.95, 12.75, 41.74, 19.69, 13.4, 10.88, 24.95, 19.97, 12.2, 18.5, 20.5, 17.5, 10.98, 20.5, 19.65, 13.4, 16.2, 10.88, 13.0, 12.15, 10.18, 12.75, 17.5, 12.48, 10.08, 12.5, 19.37, 18.0, 38.84, 17.48, 13.2, 41.15, 12.34, 12.48, 12.15, 21.96, 10.18, 13.2, 17.48, 12.48, 29.2, 17.5, 12.2, 15.24, 13.05, 12.4, 19.37, 13.7, 22.69, 12.67, 18.64, 12.2, 12.15, 86.3, 22.5, 19.47, 12.4, 14.15, 12.95, 12.48, 15.55, 13.9, 18.5, 10.88, 24.95, 12.98, 18.5, 13.2, 18.240000000000002, 17.48, 19.69, 22.5, 12.2, 10.18, 10.98, 13.2, 14.2, 19.87, 29.490000000000002, 14.7, 10.68, 30.240000000000002, 10.08, 17.48, 12.07, 45.65, 27.4, 13.25, 22.36, 20.15, 12.4, 12.98, 24.14, 12.98, 17.5, 12.5, 10.98, 17.95, 15.7, 16.65, 40.35, 24.7, 12.95, 13.2, 22.96, 10.88, 25.15, 12.4, 31.4, 12.5, 31.7, 26.75, 70.85, 10.98, 16.98, 10.98, 17.98, 41.0, 12.48, 12.67, 17.5, 11.38, 11.38, 12.95, 23.0, 17.5, 19.37, 12.75, 13.0, 13.2, 27.95, 21.96, 21.95, 20.5, 11.38, 18.0, 26.85, 13.25, 22.45, 13.0, 19.0, 12.4, 55.45, 22.19, 24.3, 15.7, 11.38, 18.5, 13.7, 28.1, 22.5, 12.4, 13.7, 22.150000000000002, 14.45, 11.38, 13.2, 10.98, 13.25, 10.98, 21.47, 17.48, 29.96, 22.5, 10.98, 10.98, 16.76, 12.95, 13.25, 12.67, 13.2, 17.5, 13.2, 38.0, 21.47, 31.25, 13.2, 14.45, 12.4, 23.5, 23.5, 13.25, 30.15, 10.08, 27.45, 19.65, 12.65, 23.0, 24.45, 10.18, 17.5, 17.48, 23.45, 22.689999999999998, 20.47, 33.32, 11.48, 12.4, 10.68, 12.5, 18.5, 38.3, 19.47, 22.3, 18.0, 12.15, 24.65, 31.7, 21.0, 13.9, 52.45, 10.98, 17.5, 12.15, 10.98, 12.4, 12.95, 18.5, 10.88, 13.2, 205.25, 17.98, 12.95, 13.25, 22.5, 12.4, 16.98, 13.25, 14.55, 12.95, 14.95, 24.45, 12.15, 12.67, 20.0, 28.75, 10.18, 21.0, 10.88, 27.44, 26.75, 28.150000000000002, 31.75, 40.69, 11.38, 20.0, 27.099999999999998, 81.14, 17.5, 11.27, 12.75, 22.5, 13.25, 17.48, 22.5, 13.05, 22.15, 14.2, 15.7, 14.27, 25.65, 11.38, 20.5, 13.14, 19.39, 11.97, 26.25, 46.9, 18.0, 23.5, 24.5, 19.97, 15.35, 24.95, 12.67, 21.0, 13.7, 23.46, 14.95, 10.98, 17.5, 23.0, 19.97, 16.95, 12.47, 13.4, 13.2, 10.18, 12.67, 24.95, 43.0, 22.5, 10.88, 29.25, 20.5, 10.08, 10.68, 13.0, 21.96, 12.15, 71.4, 11.77, 12.15, 12.36, 33.24, 13.0, 22.5, 31.9, 10.08, 13.4, 32.25, 22.5, 12.2, 15.7, 14.65, 12.75, 10.98, 16.98, 18.5, 16.060000000000002, 31.7, 17.5, 13.2, 14.45, 26.75, 21.95, 13.59, 28.75, 13.4, 32.04, 10.98, 15.7, 22.5, 19.47, 11.88, 20.95, 12.39, 14.7, 24.5, 12.4, 11.88, 13.0, 17.5, 12.5, 12.95, 59.35, 38.2, 11.88, 12.2, 11.16, 17.98, 31.25, 18.65, 22.45, 16.98, 10.98, 14.97, 20.5, 18.95, 16.98, 17.5, 18.0, 12.95, 12.75, 33.7, 32.7, 17.5, 10.18, 22.3, 12.75, 20.39, 18.5, 22.5, 23.5, 23.0, 12.15, 32.25, 14.65, 13.2, 22.95, 15.7, 22.15, 23.14, 13.2, 13.05, 31.75, 25.15, 10.08, 16.98, 20.87, 14.97, 29.6, 12.57, 16.98, 16.98, 16.060000000000002, 20.45, 20.95, 13.4, 13.7, 25.45, 13.9, 18.0, 17.740000000000002, 22.95, 14.97, 12.9, 20.0, 19.09, 21.95, 23.0, 12.36, 12.38, 10.68, 17.48, 12.26, 10.08, 12.67, 13.57, 17.5, 20.5, 18.0, 23.76, 18.0, 18.5, 15.370000000000001, 18.07, 12.38, 12.5, 12.98, 24.14, 18.0, 22.5, 12.5, 23.7, 12.15, 26.97, 12.95, 14.75, 17.5, 11.08, 10.68, 10.68, 18.36, 13.9, 14.7, 17.5, 23.0, 27.45, 12.5, 26.62, 20.0, 23.5, 17.85, 18.77, 13.7, 10.08, 12.75, 12.98, 18.349999999999998, 24.45, 33.2, 22.5, 20.5, 44.510000000000005, 24.95, 11.88, 17.48, 17.5, 22.96, 43.14, 11.27, 17.98, 18.0, 12.2, 12.48, 42.13, 17.5, 18.5, 12.5, 10.08, 13.2, 25.15, 31.25, 14.45, 26.0, 19.66, 38.7, 19.17, 19.07, 28.990000000000002, 13.2, 10.68, 11.48, 14.25, 12.36, 10.88, 13.0, 10.18, 10.18, 24.95, 13.2, 20.0, 20.0, 17.560000000000002, 12.48, 12.48, 12.98, 15.7, 10.88, 10.88, 12.48, 16.95, 13.7, 14.07, 29.4, 20.0, 33.75, 22.5, 17.48, 21.95, 16.98, 36.7, 12.2, 10.18, 17.45, 12.75, 11.48, 13.4, 18.14, 12.48, 10.48, 13.17, 15.47, 10.18, 12.2, 10.18, 43.09, 29.54, 13.2, 19.65, 12.5, 31.44, 16.98, 23.95, 12.48, 19.27, 18.240000000000002, 12.47, 26.95, 10.68, 21.96, 11.17, 11.38, 10.379999999999999, 20.15, 10.08, 16.98, 13.2, 17.5, 18.0, 10.88, 13.2, 22.5, 20.5, 34.46, 13.2, 11.48, 12.15, 13.7, 25.15, 11.38, 17.38, 14.7, 13.25, 15.2, 22.86, 26.54, 16.2, 17.5, 15.7, 17.85, 13.57, 22.5, 10.88, 11.38, 13.4, 12.95, 20.0, 17.5, 23.5, 22.5, 15.7, 19.67, 10.68, 12.5, 19.77, 10.08, 26.7, 18.75, 12.15, 12.48, 10.88, 15.66, 13.2, 11.48, 17.5, 11.48, 18.0, 12.48, 12.75, 20.0, 13.2, 13.7, 24.75, 13.25, 24.95, 40.5, 12.15, 12.15, 17.48, 18.75, 16.25, 17.5, 27.25, 24.0, 19.65, 12.15, 21.96, 10.18, 26.07, 13.25, 17.98, 11.48, 18.5, 44.25, 12.15, 20.64, 16.2, 18.5, 18.64, 10.88, 11.27, 19.66, 12.5, 11.88, 12.48, 20.0, 10.18, 16.98, 31.5, 20.0, 16.98, 12.5, 52.18, 23.0, 19.47, 10.88, 20.5, 13.2, 14.2, 30.2, 20.0, 13.2, 12.5, 14.2, 18.5, 15.74, 17.5, 10.18, 12.48, 14.65, 17.48, 10.08, 14.45, 23.0, 20.5, 12.75, 13.4, 10.98, 20.5, 14.2, 20.5, 26.75, 18.75, 14.9, 28.75, 17.5, 15.7, 25.47, 23.740000000000002, 14.2, 35.25, 12.95, 13.4, 13.7, 30.7, 13.14, 12.15, 12.36, 17.38, 12.2, 13.370000000000001, 22.5, 21.96, 21.16, 14.7, 20.0, 26.75, 18.77, 13.2, 16.2, 20.5, 21.27, 10.379999999999999, 13.7, 17.85, 16.88, 15.7, 21.25, 44.64, 12.4, 16.2, 26.35, 12.95, 41.6, 18.5, 22.76, 21.65, 12.5, 10.08, 12.4, 12.48, 12.4, 21.650000000000002, 12.4, 13.7, 160.74, 23.0, 13.370000000000001, 15.7, 16.98, 15.24, 95.39, 20.95, 13.870000000000001, 11.38, 33.7, 85.24000000000001, 24.65, 13.0, 12.4, 13.4, 11.38, 24.65, 31.25, 26.740000000000002, 10.88, 12.2, 16.98, 12.08, 10.08, 12.38, 13.7, 21.96, 17.5, 21.25, 16.2, 22.5, 10.08, 21.16, 20.5, 16.98, 13.2, 29.490000000000002, 18.5, 15.7, 139.0, 10.67, 11.27, 12.5, 12.4, 10.18, 12.95, 12.48, 16.98, 22.15, 13.25, 10.08, 10.98, 10.98, 12.5, 13.2, 17.59, 17.98, 15.7, 23.5, 12.48, 13.7, 13.7, 13.2, 17.5, 18.240000000000002, 21.95, 13.2, 41.95, 23.0, 14.2, 19.95, 12.2, 11.38, 24.14, 12.57, 10.98, 18.5, 20.0, 23.0, 12.5, 13.7, 15.74, 23.5, 11.38, 16.98, 18.5, 12.95, 13.9, 16.98, 39.44, 29.25, 13.2, 16.98, 27.44, 24.65, 21.0, 21.96, 22.060000000000002, 13.2, 12.48, 20.0, 13.4, 16.2, 29.25, 18.5, 12.4, 17.650000000000002, 12.75, 11.38, 13.25, 33.44, 12.48, 20.5, 12.98, 15.24, 82.44, 17.5, 22.5, 11.27, 13.45, 16.88, 10.88, 10.88, 10.98, 17.98, 10.18, 17.5, 15.7, 21.95, 13.2, 13.9, 10.08, 13.2, 33.05, 12.36, 12.4, 21.47, 12.15, 12.2, 15.7, 12.2, 21.47, 51.2, 12.5, 27.9, 10.98, 17.5, 18.5, 35.2, 16.98, 14.2, 12.4, 10.88, 12.65, 33.26, 12.95, 12.2, 42.5, 10.08, 22.95, 15.96, 17.48, 17.5, 23.0, 15.7, 11.88, 23.7, 20.35, 12.98, 22.65, 13.0, 38.64, 12.2, 13.7, 19.25, 13.25, 13.2, 10.08, 12.2, 10.68, 10.379999999999999, 15.7, 21.95, 24.45, 16.88, 11.27, 12.95, 12.48, 14.370000000000001, 24.65, 18.5, 16.98, 12.75, 10.88, 11.38, 16.2, 17.5, 18.5, 16.95, 27.9, 14.45, 12.0, 22.5, 22.5, 33.7, 18.0, 13.2, 12.15, 21.8, 12.95, 12.2, 49.95, 13.0, 26.0, 13.7, 23.0, 70.25, 13.4, 25.7, 12.5, 29.14, 12.15, 15.24, 12.75, 13.2, 13.2, 21.0, 13.25, 12.5, 28.6, 15.7, 13.2, 14.95, 15.7, 13.2, 32.85, 13.25, 15.7, 12.4, 13.2, 20.5, 17.5, 22.5, 12.4, 13.9, 12.2, 24.2, 25.5, 24.39, 13.84, 12.4, 29.75, 26.2, 12.2, 19.65, 31.25, 23.0, 26.8, 17.98, 38.5, 13.2, 14.45, 12.5, 17.5, 20.0, 13.0, 13.9, 13.2, 13.2, 20.5, 22.45, 17.45, 16.2, 22.65, 34.9, 33.15, 16.34, 13.2, 12.2, 14.2, 22.5, 14.2, 21.0, 12.2, 13.4, 18.15, 20.0, 22.5, 12.15, 12.5, 13.2, 23.75, 13.0, 33.75, 36.0, 13.0, 13.7, 19.69, 29.490000000000002, 18.0, 13.4, 28.9, 24.95, 20.0, 25.65, 17.45, 23.5, 24.94, 18.14, 14.95, 12.5, 12.95, 15.7, 14.7, 13.7, 12.95, 14.2, 39.3, 18.64, 14.95, 55.55, 15.15, 36.7, 17.5, 31.75, 13.2, 13.25, 17.5, 32.25, 16.2, 13.7, 28.75, 12.4, 13.7, 12.75, 12.95, 22.5, 13.25, 13.4, 18.0, 14.7, 13.0, 114.3, 12.95, 14.65, 23.0, 15.45, 13.9, 12.75, 22.47, 14.45, 14.45, 13.25, 17.5, 29.490000000000002, 12.15, 19.69, 13.2, 20.0, 20.19, 14.45, 20.0, 13.0, 18.64, 13.7, 14.45, 23.0, 29.25, 22.5, 17.5, 13.7, 12.5, 13.2, 13.0, 18.14, 13.2, 12.5, 13.7, 23.0, 12.15, 26.95, 66.5, 15.95, 32.95, 14.45, 24.25, 23.0, 12.9, 13.2, 23.5, 28.75]\n"
          ]
        }
      ]
    },
    {
      "cell_type": "code",
      "source": [
        "plt.bar(x,item_price_values)\n",
        "plt.xlabel('order_Id')\n",
        "plt.ylabel(\"item_price\")\n",
        "plt.ylim([0,100])\n",
        "plt.title(\"Distribution of item price\")\n",
        "plt.show()"
      ],
      "metadata": {
        "colab": {
          "base_uri": "https://localhost:8080/",
          "height": 296
        },
        "id": "RE6FJNsnmnqW",
        "outputId": "f4cbcd19-63f1-45a5-a35b-265fc1b70fd1"
      },
      "execution_count": null,
      "outputs": [
        {
          "output_type": "display_data",
          "data": {
            "text/plain": [
              "<Figure size 432x288 with 1 Axes>"
            ],
            "image/png": "[encoded data removed]"
          },
          "metadata": {
            "needs_background": "light"
          }
        }
      ]
    },
    {
      "cell_type": "code",
      "source": [
        "#hist()그리기\n",
        "plt.hist(item_price,bins = 30)\n",
        "plt.xlim([0,130])\n",
        "plt.xlabel('litem_prtice')\n",
        "plt.ylabel('price_count')\n",
        "plt.show()"
      ],
      "metadata": {
        "colab": {
          "base_uri": "https://localhost:8080/",
          "height": 280
        },
        "id": "3OfpbM4Rnwks",
        "outputId": "f0a50f1c-b44a-44bd-da5e-de25b843781e"
      },
      "execution_count": null,
      "outputs": [
        {
          "output_type": "display_data",
          "data": {
            "text/plain": [
              "<Figure size 432x288 with 1 Axes>"
            ],
            "image/png": "[encoded data removed]"
          },
          "metadata": {
            "needs_background": "light"
          }
        }
      ]
    }
  ]
}