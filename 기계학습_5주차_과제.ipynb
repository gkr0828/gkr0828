{
  "nbformat": 4,
  "nbformat_minor": 0,
  "metadata": {
    "colab": {
      "provenance": [],
      "authorship_tag": "ABX9TyMs0esYSSJE4hcn3mqUJYab",
      "include_colab_link": true
    },
    "kernelspec": {
      "name": "python3",
      "display_name": "Python 3"
    },
    "language_info": {
      "name": "python"
    }
  },
  "cells": [
    {
      "cell_type": "markdown",
      "metadata": {
        "id": "view-in-github",
        "colab_type": "text"
      },
      "source": [
        "<a href=\"https://colab.research.google.com/github/gkr0828/gkr0828/blob/main/%EA%B8%B0%EA%B3%84%ED%95%99%EC%8A%B5_5%EC%A3%BC%EC%B0%A8_%EA%B3%BC%EC%A0%9C.ipynb\" target=\"_parent\"><img src=\"https://colab.research.google.com/assets/colab-badge.svg\" alt=\"Open In Colab\"/></a>"
      ]
    },
    {
      "cell_type": "code",
      "source": [
        "import tensorflow as tf\n",
        "import numpy as np\n",
        "import matplotlib.pyplot as plt"
      ],
      "metadata": {
        "id": "Ag-5BIULZYuG"
      },
      "execution_count": 13,
      "outputs": []
    },
    {
      "cell_type": "markdown",
      "source": [
        "자동 미분"
      ],
      "metadata": {
        "id": "5svQ_KucZIuj"
      }
    },
    {
      "cell_type": "code",
      "execution_count": null,
      "metadata": {
        "id": "CQXTNXXKvnZb",
        "colab": {
          "base_uri": "https://localhost:8080/"
        },
        "outputId": "fc91e21f-2ba7-4109-dfcd-3c496d94db65"
      },
      "outputs": [
        {
          "output_type": "execute_result",
          "data": {
            "text/plain": [
              "4.0"
            ]
          },
          "metadata": {},
          "execution_count": 3
        }
      ],
      "source": [
        "# y = x^2의 미분값 구하기\n",
        "x = tf.Variable(2.0)\n",
        "\n",
        "with tf.GradientTape() as tape:\n",
        "    y=x ** 2\n",
        "dy_dx = tape.gradient(y,x)\n",
        "dy_dx.numpy()"
      ]
    },
    {
      "cell_type": "code",
      "source": [
        "##reduced_mean()\n",
        "m2 = tf.constant([[1.,1.],[2.,2.]])\n",
        "m2"
      ],
      "metadata": {
        "colab": {
          "base_uri": "https://localhost:8080/"
        },
        "id": "8iPhUNBuZcPa",
        "outputId": "c0f1ddf6-eab7-4f54-c221-85bee4849254"
      },
      "execution_count": null,
      "outputs": [
        {
          "output_type": "execute_result",
          "data": {
            "text/plain": [
              "<tf.Tensor: shape=(2, 2), dtype=float32, numpy=\n",
              "array([[1., 1.],\n",
              "       [2., 2.]], dtype=float32)>"
            ]
          },
          "metadata": {},
          "execution_count": 5
        }
      ]
    },
    {
      "cell_type": "markdown",
      "source": [
        "데이터셋 생성\n"
      ],
      "metadata": {
        "id": "jcq1Zyc8Zlr8"
      }
    },
    {
      "cell_type": "code",
      "source": [
        "g = tf.random.Generator.from_seed(2020)\n",
        "x = g.normal(shape=(10,))\n",
        "y = 3 * x - 2"
      ],
      "metadata": {
        "id": "mjykR4EuZkY2"
      },
      "execution_count": null,
      "outputs": []
    },
    {
      "cell_type": "code",
      "source": [
        "x"
      ],
      "metadata": {
        "colab": {
          "base_uri": "https://localhost:8080/"
        },
        "id": "8VrS9xVOZp8x",
        "outputId": "8efbbf41-1b1f-4824-ab9a-d57129721bad"
      },
      "execution_count": null,
      "outputs": [
        {
          "output_type": "execute_result",
          "data": {
            "text/plain": [
              "<tf.Tensor: shape=(10,), dtype=float32, numpy=\n",
              "array([-0.20943771,  1.2746525 ,  1.213214  , -0.17576952,  1.876984  ,\n",
              "        0.16379918,  1.082245  ,  0.6199966 , -0.44402212,  1.3048344 ],\n",
              "      dtype=float32)>"
            ]
          },
          "metadata": {},
          "execution_count": 7
        }
      ]
    },
    {
      "cell_type": "code",
      "source": [
        "y"
      ],
      "metadata": {
        "colab": {
          "base_uri": "https://localhost:8080/"
        },
        "id": "JP7hoaJDZscq",
        "outputId": "ddd504b7-c284-462b-ff99-f4cec8bf19f7"
      },
      "execution_count": null,
      "outputs": [
        {
          "output_type": "execute_result",
          "data": {
            "text/plain": [
              "<tf.Tensor: shape=(10,), dtype=float32, numpy=\n",
              "array([-2.628313  ,  1.8239574 ,  1.6396422 , -2.5273085 ,  3.630952  ,\n",
              "       -1.5086024 ,  1.2467351 , -0.14001012, -3.3320663 ,  1.9145031 ],\n",
              "      dtype=float32)>"
            ]
          },
          "metadata": {},
          "execution_count": 8
        }
      ]
    },
    {
      "cell_type": "code",
      "source": [
        "##loss함수 정의\n",
        "def cal_mse(x,y,a,b):\n",
        "    y_prde = a * x + b\n",
        "    squared_error = (y_prde - y) ** 2\n",
        "    mean_squared_error = tf.reduce_mean(squared_error)\n",
        "\n",
        "    return mean_squared_error"
      ],
      "metadata": {
        "id": "Xb7CVVbAZtxt"
      },
      "execution_count": null,
      "outputs": []
    },
    {
      "cell_type": "code",
      "source": [
        "a = tf.Variable(0.0)\n",
        "b = tf.Variable(0.0)\n",
        "\n",
        "EPOCHS = 1000\n",
        "\n",
        "for epoch in range(1, EPOCHS+1):\n",
        "    with tf.GradientTape() as tape:\n",
        "      mse = cal_mse(x,y,a,b)\n",
        "    if mse < 0.0000001:\n",
        "      break\n",
        "    grade = tape.gradient(mse, {'a':a, 'b':b})\n",
        "    d_a, d_b = grade['a'],grade['b']\n",
        "    a.assign_sub(d_a * 0.05) ## a = a - d_a * 0.05(학습률)\n",
        "    b.assign_sub(d_b * 0.05) ## b = b - d_b * 0.05(학습률)\n",
        "\n",
        "    if epoch % 20 == 0:\n",
        "      print(\"EPOCH %d - MSE : %.4f - a: %.2f - b : %2.2f\"%(epoch, mse, a,b))\n"
      ],
      "metadata": {
        "colab": {
          "base_uri": "https://localhost:8080/"
        },
        "id": "s3W29PbDZxDf",
        "outputId": "73c1ca2d-438e-4bb1-b69e-e1c0911aefa7"
      },
      "execution_count": null,
      "outputs": [
        {
          "output_type": "stream",
          "name": "stdout",
          "text": [
            "EPOCH 20 - MSE : 1.1415 - a: 1.74 - b : -0.75\n",
            "EPOCH 40 - MSE : 0.2881 - a: 2.37 - b : -1.37\n",
            "EPOCH 60 - MSE : 0.0728 - a: 2.69 - b : -1.68\n",
            "EPOCH 80 - MSE : 0.0184 - a: 2.84 - b : -1.84\n",
            "EPOCH 100 - MSE : 0.0046 - a: 2.92 - b : -1.92\n",
            "EPOCH 120 - MSE : 0.0012 - a: 2.96 - b : -1.96\n",
            "EPOCH 140 - MSE : 0.0003 - a: 2.98 - b : -1.98\n",
            "EPOCH 160 - MSE : 0.0001 - a: 2.99 - b : -1.99\n",
            "EPOCH 180 - MSE : 0.0000 - a: 2.99 - b : -1.99\n",
            "EPOCH 200 - MSE : 0.0000 - a: 3.00 - b : -2.00\n",
            "EPOCH 220 - MSE : 0.0000 - a: 3.00 - b : -2.00\n",
            "EPOCH 240 - MSE : 0.0000 - a: 3.00 - b : -2.00\n"
          ]
        }
      ]
    },
    {
      "cell_type": "code",
      "source": [
        "y_pred = 2.05 * x -1.54\n",
        "plt.scatter(x,y)\n",
        "plt.plot(x,y_pred,color = 'r')\n",
        "plt.show()"
      ],
      "metadata": {
        "colab": {
          "base_uri": "https://localhost:8080/",
          "height": 430
        },
        "id": "29L8qpcVZ_7R",
        "outputId": "fe9646b9-fbfa-43cb-c398-c4c96bb273e8"
      },
      "execution_count": 17,
      "outputs": [
        {
          "output_type": "display_data",
          "data": {
            "text/plain": [
              "<Figure size 640x480 with 1 Axes>"
            ],
            "image/png": "[encoded data removed]"
          },
          "metadata": {}
        }
      ]
    },
    {
      "cell_type": "markdown",
      "source": [
        "노이즈 첨가"
      ],
      "metadata": {
        "id": "diCmRrGeakqV"
      }
    },
    {
      "cell_type": "code",
      "source": [
        "g = tf.random.Generator.from_seed(2020)\n",
        "x1 = g.normal(shape=(10,))\n",
        "noise = np.random.normal(0,1,size = (10,))\n",
        "y= 3*x-2+noise"
      ],
      "metadata": {
        "id": "KySh_DPua9hK"
      },
      "execution_count": 18,
      "outputs": []
    },
    {
      "cell_type": "code",
      "source": [
        "y_pred = 1.93 * x1 -1.73\n",
        "plt.scatter(x1,y)\n",
        "plt.plot(x1,y_pred,color = 'r')\n",
        "plt.show()"
      ],
      "metadata": {
        "colab": {
          "base_uri": "https://localhost:8080/",
          "height": 430
        },
        "id": "5n5LlYkHbBMZ",
        "outputId": "94b5548e-34cb-4117-e856-e9b26f23b59e"
      },
      "execution_count": 19,
      "outputs": [
        {
          "output_type": "display_data",
          "data": {
            "text/plain": [
              "<Figure size 640x480 with 1 Axes>"
            ],
            "image/png": "[encoded data removed]"
          },
          "metadata": {}
        }
      ]
    }
  ]
}