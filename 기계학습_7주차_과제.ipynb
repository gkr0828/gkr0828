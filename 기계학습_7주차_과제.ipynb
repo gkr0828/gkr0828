{
  "nbformat": 4,
  "nbformat_minor": 0,
  "metadata": {
    "colab": {
      "provenance": [],
      "authorship_tag": "ABX9TyPAd1sMqvCzYniuCBPIA5Ls",
      "include_colab_link": true
    },
    "kernelspec": {
      "name": "python3",
      "display_name": "Python 3"
    },
    "language_info": {
      "name": "python"
    }
  },
  "cells": [
    {
      "cell_type": "markdown",
      "metadata": {
        "id": "view-in-github",
        "colab_type": "text"
      },
      "source": [
        "<a href=\"https://colab.research.google.com/github/gkr0828/gkr0828/blob/main/%EA%B8%B0%EA%B3%84%ED%95%99%EC%8A%B5_7%EC%A3%BC%EC%B0%A8_%EA%B3%BC%EC%A0%9C.ipynb\" target=\"_parent\"><img src=\"https://colab.research.google.com/assets/colab-badge.svg\" alt=\"Open In Colab\"/></a>"
      ]
    },
    {
      "cell_type": "code",
      "source": [
        "import tensorflow as tf\n",
        "import numpy as np\n",
        "import matplotlib.pyplot as plt"
      ],
      "metadata": {
        "id": "y2C6ADcS6hAR"
      },
      "execution_count": null,
      "outputs": []
    },
    {
      "cell_type": "code",
      "source": [
        "##데이터셋 로드\n",
        "mnist = tf.keras.datasets.mnist\n",
        "(x_train, y_train),(x_test, y_test) = mnist.load_data()"
      ],
      "metadata": {
        "colab": {
          "base_uri": "https://localhost:8080/"
        },
        "id": "KRtexnql9u_Q",
        "outputId": "79b4d559-7fc7-4be4-cee0-618b33f6ed42"
      },
      "execution_count": null,
      "outputs": [
        {
          "output_type": "stream",
          "name": "stdout",
          "text": [
            "Downloading data from https://storage.googleapis.com/tensorflow/tf-keras-datasets/mnist.npz\n",
            "11490434/11490434 [==============================] - 0s 0us/step\n"
          ]
        }
      ]
    },
    {
      "cell_type": "markdown",
      "source": [
        "# 4-1 가중치 초기화\n",
        "1. he_uniform : 활성화 함수가 ReLU인 경우 사용\n",
        "2. glorot_uniform : 활성화 함수가 Sigmoid, Taha 인 경우 사용\n",
        "\n"
      ],
      "metadata": {
        "id": "MtonxTWd_Ajj"
      }
    },
    {
      "cell_type": "code",
      "source": [
        "##가중치를 적용하지 않은 경우\n",
        "model = tf.keras.Sequential ([tf.keras.layers.Flatten(input_shape=(28,28)),\n",
        "                              tf.keras.layers.Dense(64, activation = 'relu'),\n",
        "                              tf.keras.layers.Dense(32, activation = 'relu'),\n",
        "                              tf.keras.layers.Dense(10, activation = 'softmax')])\n",
        "model.summary()"
      ],
      "metadata": {
        "colab": {
          "base_uri": "https://localhost:8080/"
        },
        "id": "Nm9iHYRtA8Af",
        "outputId": "644d1b2a-7702-492b-a4d0-3a6713a3292b"
      },
      "execution_count": null,
      "outputs": [
        {
          "output_type": "stream",
          "name": "stdout",
          "text": [
            "Model: \"sequential\"\n",
            "_________________________________________________________________\n",
            " Layer (type)                Output Shape              Param #   \n",
            "=================================================================\n",
            " flatten (Flatten)           (None, 784)               0         \n",
            "                                                                 \n",
            " dense_4 (Dense)             (None, 64)                50240     \n",
            "                                                                 \n",
            " dense_5 (Dense)             (None, 32)                2080      \n",
            "                                                                 \n",
            " dense_6 (Dense)             (None, 10)                330       \n",
            "                                                                 \n",
            "=================================================================\n",
            "Total params: 52,650\n",
            "Trainable params: 52,650\n",
            "Non-trainable params: 0\n",
            "_________________________________________________________________\n"
          ]
        }
      ]
    },
    {
      "cell_type": "code",
      "source": [
        "##kernel_initializer = 'uniform'\n",
        "dense = tf.keras.layers.Dense(256,kernel_initializer = 'uniform',activation='relu')"
      ],
      "metadata": {
        "id": "DsYCTGEG-3jn"
      },
      "execution_count": null,
      "outputs": []
    },
    {
      "cell_type": "code",
      "source": [
        "##kernel_initializer = 'normal'\n",
        "dense = tf.keras.layers.Dense(256,kernel_initializer = 'normal',activation='relu')"
      ],
      "metadata": {
        "id": "yakYxmnu-3v5"
      },
      "execution_count": null,
      "outputs": []
    },
    {
      "cell_type": "code",
      "source": [
        "##kernel_initializer = 'he_normal'\n",
        "dense = tf.keras.layers.Dense(256,kernel_initializer = 'he_normal',activation='relu')"
      ],
      "metadata": {
        "id": "qpe_fHIV_vKh"
      },
      "execution_count": null,
      "outputs": []
    },
    {
      "cell_type": "code",
      "source": [
        "model.compile(optimizer='adam',loss='sparse_categorical_crossentropy',metrics=['accuracy'])\n",
        "history=model.fit(x_train,y_train,validation_data=(x_test,y_test),epochs=10)"
      ],
      "metadata": {
        "colab": {
          "base_uri": "https://localhost:8080/"
        },
        "id": "WXYb1ZP1C_1p",
        "outputId": "bcff7ad8-35a8-4856-cc26-43227545ad02"
      },
      "execution_count": null,
      "outputs": [
        {
          "output_type": "stream",
          "name": "stdout",
          "text": [
            "Epoch 1/10\n",
            "1875/1875 [==============================] - 7s 3ms/step - loss: 1.3958 - accuracy: 0.7581 - val_loss: 0.5409 - val_accuracy: 0.8607\n",
            "Epoch 2/10\n",
            "1875/1875 [==============================] - 6s 3ms/step - loss: 0.3870 - accuracy: 0.8992 - val_loss: 0.3736 - val_accuracy: 0.9226\n",
            "Epoch 3/10\n",
            "1875/1875 [==============================] - 6s 3ms/step - loss: 0.2621 - accuracy: 0.9294 - val_loss: 0.2191 - val_accuracy: 0.9431\n",
            "Epoch 4/10\n",
            "1875/1875 [==============================] - 7s 4ms/step - loss: 0.1996 - accuracy: 0.9457 - val_loss: 0.1944 - val_accuracy: 0.9513\n",
            "Epoch 5/10\n",
            "1875/1875 [==============================] - 6s 3ms/step - loss: 0.1704 - accuracy: 0.9528 - val_loss: 0.1656 - val_accuracy: 0.9542\n",
            "Epoch 6/10\n",
            "1875/1875 [==============================] - 10s 6ms/step - loss: 0.1425 - accuracy: 0.9610 - val_loss: 0.1499 - val_accuracy: 0.9622\n",
            "Epoch 7/10\n",
            "1875/1875 [==============================] - 8s 4ms/step - loss: 0.1286 - accuracy: 0.9647 - val_loss: 0.1412 - val_accuracy: 0.9638\n",
            "Epoch 8/10\n",
            "1875/1875 [==============================] - 6s 3ms/step - loss: 0.1195 - accuracy: 0.9673 - val_loss: 0.1612 - val_accuracy: 0.9626\n",
            "Epoch 9/10\n",
            "1875/1875 [==============================] - 9s 5ms/step - loss: 0.1093 - accuracy: 0.9698 - val_loss: 0.1522 - val_accuracy: 0.9655\n",
            "Epoch 10/10\n",
            "1875/1875 [==============================] - 9s 5ms/step - loss: 0.0982 - accuracy: 0.9730 - val_loss: 0.1618 - val_accuracy: 0.9626\n"
          ]
        }
      ]
    },
    {
      "cell_type": "code",
      "source": [
        "##kernel_initializer = 'he_normal' 을 적용한 경우\n",
        "model_w_he = tf.keras.Sequential ([tf.keras.layers.Flatten(input_shape=(28,28)),\n",
        "                              tf.keras.layers.Dense(64, kernel_initializer = 'he_normal', activation = 'relu'),\n",
        "                              tf.keras.layers.Dense(32, activation = 'relu'),\n",
        "                              tf.keras.layers.Dense(10, activation = 'softmax')])\n",
        "model_w_he.summary()"
      ],
      "metadata": {
        "colab": {
          "base_uri": "https://localhost:8080/"
        },
        "id": "HBN012QmDtOs",
        "outputId": "5d519118-ad39-423e-9260-d01ce0f279a4"
      },
      "execution_count": null,
      "outputs": [
        {
          "output_type": "stream",
          "name": "stdout",
          "text": [
            "Model: \"sequential_1\"\n",
            "_________________________________________________________________\n",
            " Layer (type)                Output Shape              Param #   \n",
            "=================================================================\n",
            " flatten_1 (Flatten)         (None, 784)               0         \n",
            "                                                                 \n",
            " dense_7 (Dense)             (None, 64)                50240     \n",
            "                                                                 \n",
            " dense_8 (Dense)             (None, 32)                2080      \n",
            "                                                                 \n",
            " dense_9 (Dense)             (None, 10)                330       \n",
            "                                                                 \n",
            "=================================================================\n",
            "Total params: 52,650\n",
            "Trainable params: 52,650\n",
            "Non-trainable params: 0\n",
            "_________________________________________________________________\n"
          ]
        }
      ]
    },
    {
      "cell_type": "code",
      "source": [
        "model_w_he.compile(optimizer='adam',loss='sparse_categorical_crossentropy', metrics=['accuracy'])\n",
        "history_w_he = model_w_he.fit(x_train, y_train, validation_data=(x_test, y_test),epochs=10)"
      ],
      "metadata": {
        "colab": {
          "base_uri": "https://localhost:8080/"
        },
        "id": "-iPU-kfwEJCk",
        "outputId": "e7ac60f4-5952-4430-d0b9-2623becd701e"
      },
      "execution_count": null,
      "outputs": [
        {
          "output_type": "stream",
          "name": "stdout",
          "text": [
            "Epoch 1/10\n",
            "1875/1875 [==============================] - 8s 4ms/step - loss: 1.6182 - accuracy: 0.6982 - val_loss: 0.5934 - val_accuracy: 0.8337\n",
            "Epoch 2/10\n",
            "1875/1875 [==============================] - 8s 4ms/step - loss: 0.4980 - accuracy: 0.8651 - val_loss: 0.4159 - val_accuracy: 0.8873\n",
            "Epoch 3/10\n",
            "1875/1875 [==============================] - 13s 7ms/step - loss: 0.3291 - accuracy: 0.9112 - val_loss: 0.2757 - val_accuracy: 0.9285\n",
            "Epoch 4/10\n",
            "1875/1875 [==============================] - 11s 6ms/step - loss: 0.2457 - accuracy: 0.9336 - val_loss: 0.2349 - val_accuracy: 0.9378\n",
            "Epoch 5/10\n",
            "1875/1875 [==============================] - 14s 7ms/step - loss: 0.1989 - accuracy: 0.9452 - val_loss: 0.1996 - val_accuracy: 0.9471\n",
            "Epoch 6/10\n",
            "1875/1875 [==============================] - 14s 8ms/step - loss: 0.1684 - accuracy: 0.9531 - val_loss: 0.1867 - val_accuracy: 0.9493\n",
            "Epoch 7/10\n",
            "1875/1875 [==============================] - 12s 7ms/step - loss: 0.1511 - accuracy: 0.9580 - val_loss: 0.1599 - val_accuracy: 0.9591\n",
            "Epoch 8/10\n",
            "1875/1875 [==============================] - 10s 5ms/step - loss: 0.1365 - accuracy: 0.9624 - val_loss: 0.1795 - val_accuracy: 0.9540\n",
            "Epoch 9/10\n",
            "1875/1875 [==============================] - 11s 6ms/step - loss: 0.1232 - accuracy: 0.9654 - val_loss: 0.1731 - val_accuracy: 0.9562\n",
            "Epoch 10/10\n",
            "1875/1875 [==============================] - 9s 5ms/step - loss: 0.1187 - accuracy: 0.9673 - val_loss: 0.1507 - val_accuracy: 0.9600\n"
          ]
        }
      ]
    },
    {
      "cell_type": "code",
      "source": [
        "#두 모델 비교 시작화\n",
        "plt.figure(figsize=(5,3))\n",
        "plt.plot(np.arange(1,11),history.history['val_loss'], color = 'navy', label = 'None')\n",
        "plt.plot(np.arange(1,11),history_w_he.history['val_loss'], color = 'red', label = 'He Initialization')\n",
        "plt.title(\"Losses\", fontsize = 22)\n",
        "plt.xlabel('epochs')\n",
        "plt.ylabel(\"Losses\")\n",
        "plt.legend()\n",
        "plt.show()"
      ],
      "metadata": {
        "colab": {
          "base_uri": "https://localhost:8080/",
          "height": 342
        },
        "id": "T13d7-FbEvzx",
        "outputId": "43e59352-4fa1-4d1d-f46e-56c0927f825f"
      },
      "execution_count": null,
      "outputs": [
        {
          "output_type": "display_data",
          "data": {
            "text/plain": [
              "<Figure size 500x300 with 1 Axes>"
            ],
            "image/png": "[encoded data removed]"
          },
          "metadata": {}
        }
      ]
    },
    {
      "cell_type": "code",
      "source": [
        "##kernel_initializer = 'glorot_normal' 을 적용한 경우\n",
        "model_w_gl = tf.keras.Sequential ([tf.keras.layers.Flatten(input_shape=(28,28)),\n",
        "                              tf.keras.layers.Dense(64, kernel_initializer = 'glorot_normal', activation = 'sigmoid'),\n",
        "                              tf.keras.layers.Dense(32, activation = 'sigmoid'),\n",
        "                              tf.keras.layers.Dense(10, activation = 'softmax')])\n",
        "model_w_gl.summary()"
      ],
      "metadata": {
        "colab": {
          "base_uri": "https://localhost:8080/"
        },
        "id": "0hUScLeHG_NN",
        "outputId": "3dd0dbf9-ea09-43ef-f4c3-dc41e9b99635"
      },
      "execution_count": null,
      "outputs": [
        {
          "output_type": "stream",
          "name": "stdout",
          "text": [
            "Model: \"sequential_2\"\n",
            "_________________________________________________________________\n",
            " Layer (type)                Output Shape              Param #   \n",
            "=================================================================\n",
            " flatten_2 (Flatten)         (None, 784)               0         \n",
            "                                                                 \n",
            " dense_10 (Dense)            (None, 64)                50240     \n",
            "                                                                 \n",
            " dense_11 (Dense)            (None, 32)                2080      \n",
            "                                                                 \n",
            " dense_12 (Dense)            (None, 10)                330       \n",
            "                                                                 \n",
            "=================================================================\n",
            "Total params: 52,650\n",
            "Trainable params: 52,650\n",
            "Non-trainable params: 0\n",
            "_________________________________________________________________\n"
          ]
        }
      ]
    },
    {
      "cell_type": "code",
      "source": [
        "model_w_gl.compile(optimizer='adam',loss='sparse_categorical_crossentropy', metrics=['accuracy'])\n",
        "history_w_gl = model_w_gl.fit(x_train, y_train, validation_data = (x_test, y_test), epochs =10)"
      ],
      "metadata": {
        "colab": {
          "base_uri": "https://localhost:8080/"
        },
        "id": "SS52u-btF8Ms",
        "outputId": "ddfb57be-364d-4a29-f0a9-42879c5f1d34"
      },
      "execution_count": null,
      "outputs": [
        {
          "output_type": "stream",
          "name": "stdout",
          "text": [
            "Epoch 1/10\n",
            "1875/1875 [==============================] - 8s 4ms/step - loss: 0.8063 - accuracy: 0.7952 - val_loss: 0.4399 - val_accuracy: 0.8780\n",
            "Epoch 2/10\n",
            "1875/1875 [==============================] - 6s 3ms/step - loss: 0.4096 - accuracy: 0.8788 - val_loss: 0.3686 - val_accuracy: 0.8870\n",
            "Epoch 3/10\n",
            "1875/1875 [==============================] - 8s 4ms/step - loss: 0.3756 - accuracy: 0.8855 - val_loss: 0.3504 - val_accuracy: 0.8948\n",
            "Epoch 4/10\n",
            "1875/1875 [==============================] - 5s 3ms/step - loss: 0.3357 - accuracy: 0.8967 - val_loss: 0.3384 - val_accuracy: 0.9004\n",
            "Epoch 5/10\n",
            "1875/1875 [==============================] - 7s 4ms/step - loss: 0.3231 - accuracy: 0.9011 - val_loss: 0.3043 - val_accuracy: 0.9060\n",
            "Epoch 6/10\n",
            "1875/1875 [==============================] - 6s 3ms/step - loss: 0.3051 - accuracy: 0.9052 - val_loss: 0.3118 - val_accuracy: 0.9029\n",
            "Epoch 7/10\n",
            "1875/1875 [==============================] - 7s 4ms/step - loss: 0.2982 - accuracy: 0.9067 - val_loss: 0.2824 - val_accuracy: 0.9144\n",
            "Epoch 8/10\n",
            "1875/1875 [==============================] - 5s 3ms/step - loss: 0.2912 - accuracy: 0.9101 - val_loss: 0.2848 - val_accuracy: 0.9104\n",
            "Epoch 9/10\n",
            "1875/1875 [==============================] - 7s 4ms/step - loss: 0.2787 - accuracy: 0.9127 - val_loss: 0.2732 - val_accuracy: 0.9190\n",
            "Epoch 10/10\n",
            "1875/1875 [==============================] - 6s 3ms/step - loss: 0.2744 - accuracy: 0.9152 - val_loss: 0.2701 - val_accuracy: 0.9202\n"
          ]
        }
      ]
    },
    {
      "cell_type": "code",
      "source": [
        "#세 모델 시각화\n",
        "plt.figure(figsize=(5,3))\n",
        "plt.plot(np.arange(1,11),history.history['val_loss'], color = 'navy', label = 'None')\n",
        "plt.plot(np.arange(1,11),history_w_he.history['val_loss'], color = 'red', label = 'He Initialization')\n",
        "plt.plot(np.arange(1,11),history_w_gl.history['val_loss'], color = 'green', label = 'Xavier Initialization')\n",
        "plt.title(\"Losses\", fontsize = 22)\n",
        "plt.xlabel('epochs')\n",
        "plt.ylabel(\"Losses\")\n",
        "plt.legend()\n",
        "plt.show()"
      ],
      "metadata": {
        "colab": {
          "base_uri": "https://localhost:8080/",
          "height": 342
        },
        "id": "1JmeaXW9HoZz",
        "outputId": "4edff335-0184-402b-9c3b-76a45b9238a5"
      },
      "execution_count": null,
      "outputs": [
        {
          "output_type": "display_data",
          "data": {
            "text/plain": [
              "<Figure size 500x300 with 1 Axes>"
            ],
            "image/png": "[encoded data removed]"
          },
          "metadata": {}
        }
      ]
    },
    {
      "cell_type": "markdown",
      "source": [
        "# 4-2 규제(Regularization)\n",
        "\n",
        "\n",
        "1. L1 : 가중치의 절대값에 0.001을 곱하여 비용 추가\n",
        "2. L2 : 가중치의 제곱에 0.001을 곱하여 비용 추가\n",
        "\n"
      ],
      "metadata": {
        "id": "nr0Uc2X2IX6T"
      }
    },
    {
      "cell_type": "code",
      "source": [
        "regularizer2 = tf.keras.regularizers.l2(0.001)\n",
        "L2_model = tf.keras.Sequential([\n",
        "    tf.keras.layers.Flatten(input_shape=(28,28)),\n",
        "    tf.keras.layers.Dense(64,kernel_initializer='normal', kernel_regularizer = regularizer2, activation='relu'),\n",
        "    tf.keras.layers.Dense(32,kernel_initializer='normal', kernel_regularizer = regularizer2, activation='relu'),\n",
        "    tf.keras.layers.Dense(10,activation='softmax'),\n",
        "])"
      ],
      "metadata": {
        "id": "YWRNuu_LIzub"
      },
      "execution_count": null,
      "outputs": []
    },
    {
      "cell_type": "code",
      "source": [
        "L2_model.compile(optimizer = 'adam', loss = 'sparse_categorical_crossentropy', metrics = ['accuracy'])\n",
        "L2_model = L2_model.fit(x_train, y_train, validation_data = (x_test, y_test), epochs = 10)"
      ],
      "metadata": {
        "colab": {
          "base_uri": "https://localhost:8080/"
        },
        "id": "RUtXkoLiJqQ7",
        "outputId": "b191422c-6271-4109-9937-0ebac20f52c7"
      },
      "execution_count": null,
      "outputs": [
        {
          "output_type": "stream",
          "name": "stdout",
          "text": [
            "Epoch 1/10\n",
            "1875/1875 [==============================] - 8s 4ms/step - loss: 0.7004 - accuracy: 0.8568 - val_loss: 0.3503 - val_accuracy: 0.9224\n",
            "Epoch 2/10\n",
            "1875/1875 [==============================] - 7s 4ms/step - loss: 0.3047 - accuracy: 0.9357 - val_loss: 0.2609 - val_accuracy: 0.9451\n",
            "Epoch 3/10\n",
            "1875/1875 [==============================] - 8s 4ms/step - loss: 0.2394 - accuracy: 0.9506 - val_loss: 0.2166 - val_accuracy: 0.9582\n",
            "Epoch 4/10\n",
            "1875/1875 [==============================] - 7s 4ms/step - loss: 0.2158 - accuracy: 0.9560 - val_loss: 0.2090 - val_accuracy: 0.9585\n",
            "Epoch 5/10\n",
            "1875/1875 [==============================] - 8s 4ms/step - loss: 0.2006 - accuracy: 0.9597 - val_loss: 0.2130 - val_accuracy: 0.9588\n",
            "Epoch 6/10\n",
            "1875/1875 [==============================] - 7s 4ms/step - loss: 0.1924 - accuracy: 0.9638 - val_loss: 0.1971 - val_accuracy: 0.9616\n",
            "Epoch 7/10\n",
            "1875/1875 [==============================] - 6s 3ms/step - loss: 0.1845 - accuracy: 0.9646 - val_loss: 0.2122 - val_accuracy: 0.9576\n",
            "Epoch 8/10\n",
            "1875/1875 [==============================] - 8s 4ms/step - loss: 0.1840 - accuracy: 0.9653 - val_loss: 0.2013 - val_accuracy: 0.9625\n",
            "Epoch 9/10\n",
            "1875/1875 [==============================] - 7s 4ms/step - loss: 0.1810 - accuracy: 0.9661 - val_loss: 0.2083 - val_accuracy: 0.9581\n",
            "Epoch 10/10\n",
            "1875/1875 [==============================] - 8s 4ms/step - loss: 0.1754 - accuracy: 0.9671 - val_loss: 0.2210 - val_accuracy: 0.9569\n"
          ]
        }
      ]
    }
  ]
}